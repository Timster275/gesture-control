{
 "cells": [
  {
   "attachments": {},
   "cell_type": "markdown",
   "metadata": {},
   "source": [
    "BY: https://github.com/AssanaliAbu/Hand-Gesture-Recognition"
   ]
  },
  {
   "cell_type": "code",
   "execution_count": 1,
   "metadata": {
    "id": "igMyGnjE9hEp"
   },
   "outputs": [],
   "source": [
    "import csv\n",
    "\n",
    "import numpy as np\n",
    "import pandas as pd\n",
    "import tensorflow as tf\n",
    "from sklearn.model_selection import train_test_split\n",
    "\n",
    "RANDOM_SEED = 42"
   ]
  },
  {
   "cell_type": "markdown",
   "metadata": {
    "id": "t2HDvhIu9hEr"
   },
   "source": [
    "# Specify each path"
   ]
  },
  {
   "cell_type": "code",
   "execution_count": 2,
   "metadata": {
    "id": "9NvZP2Zn9hEy"
   },
   "outputs": [],
   "source": [
    "# Specify data paths\n",
    "dataset = 'labels.csv'\n",
    "model_save_path = 'gesture_detection_model.hdf5'"
   ]
  },
  {
   "cell_type": "markdown",
   "metadata": {
    "id": "s5oMH7x19hEz"
   },
   "source": [
    "# Set number of classes"
   ]
  },
  {
   "cell_type": "code",
   "execution_count": 4,
   "metadata": {
    "id": "du4kodXL9hEz"
   },
   "outputs": [],
   "source": [
    "# Change training classes if necessary\n",
    "NUM_CLASSES = 5"
   ]
  },
  {
   "cell_type": "markdown",
   "metadata": {
    "id": "XjnL0uso9hEz"
   },
   "source": [
    "# Dataset reading"
   ]
  },
  {
   "cell_type": "code",
   "execution_count": 6,
   "metadata": {
    "id": "QT5ZqtEz9hE0"
   },
   "outputs": [],
   "source": [
    "X_dataset = np.loadtxt(dataset, delimiter=',', dtype='float32', usecols=list(range(1, (21 * 2) + 1)))"
   ]
  },
  {
   "cell_type": "code",
   "execution_count": 7,
   "metadata": {
    "id": "QmoKFsp49hE0"
   },
   "outputs": [],
   "source": [
    "y_dataset = np.loadtxt(dataset, delimiter=',', dtype='int32', usecols=(0))"
   ]
  },
  {
   "cell_type": "code",
   "execution_count": 8,
   "metadata": {
    "id": "xQU7JTZ_9hE0"
   },
   "outputs": [],
   "source": [
    "X_train, X_test, y_train, y_test = train_test_split(X_dataset, y_dataset, train_size=0.75, random_state=RANDOM_SEED)"
   ]
  },
  {
   "cell_type": "code",
   "execution_count": 9,
   "metadata": {
    "colab": {
     "base_uri": "https://localhost:8080/",
     "height": 279
    },
    "id": "xElG5FoPDQO9",
    "outputId": "2ef372ed-62e3-49c1-ad36-a5b5dc76701a"
   },
   "outputs": [
    {
     "name": "stdout",
     "output_type": "stream",
     "text": [
      "(array([0, 1, 2, 3, 4], dtype=int32), array([ 795,  795, 1116,  808,  781]))\n"
     ]
    },
    {
     "data": {
      "image/png": "[encoded data removed]",
      "text/plain": [
       "<Figure size 640x480 with 1 Axes>"
      ]
     },
     "metadata": {},
     "output_type": "display_data"
    }
   ],
   "source": [
    "# Classes count\n",
    "counts = np.unique(y_dataset, return_counts=True)\n",
    "df = pd.DataFrame(counts)\n",
    "df.T.plot(kind=\"bar\", stacked=True)\n",
    "print(counts)"
   ]
  },
  {
   "cell_type": "markdown",
   "metadata": {
    "id": "mxK_lETT9hE0"
   },
   "source": [
    "# Model building"
   ]
  },
  {
   "cell_type": "code",
   "execution_count": 10,
   "metadata": {
    "id": "vHBmUf1t9hE1"
   },
   "outputs": [],
   "source": [
    "model = tf.keras.models.Sequential([\n",
    "    tf.keras.layers.Input((21 * 2, )),\n",
    "    tf.keras.layers.Dropout(0.0),\n",
    "    tf.keras.layers.Dense(32, activation='relu'),\n",
    "    tf.keras.layers.Dropout(0.0),\n",
    "    tf.keras.layers.Dense(32, activation='relu'),\n",
    "    tf.keras.layers.Dropout(0.0),\n",
    "    tf.keras.layers.Dense(16, activation='relu'),\n",
    "    tf.keras.layers.Dense(NUM_CLASSES, activation='softmax')\n",
    "])"
   ]
  },
  {
   "cell_type": "code",
   "execution_count": 11,
   "metadata": {
    "colab": {
     "base_uri": "https://localhost:8080/"
    },
    "id": "ypqky9tc9hE1",
    "outputId": "c42f3550-ceee-45b8-d40d-d99fd84a2616"
   },
   "outputs": [
    {
     "name": "stdout",
     "output_type": "stream",
     "text": [
      "Model: \"sequential\"\n",
      "_________________________________________________________________\n",
      " Layer (type)                Output Shape              Param #   \n",
      "=================================================================\n",
      " dropout (Dropout)           (None, 42)                0         \n",
      "                                                                 \n",
      " dense (Dense)               (None, 32)                1376      \n",
      "                                                                 \n",
      " dropout_1 (Dropout)         (None, 32)                0         \n",
      "                                                                 \n",
      " dense_1 (Dense)             (None, 32)                1056      \n",
      "                                                                 \n",
      " dropout_2 (Dropout)         (None, 32)                0         \n",
      "                                                                 \n",
      " dense_2 (Dense)             (None, 16)                528       \n",
      "                                                                 \n",
      " dense_3 (Dense)             (None, 5)                 85        \n",
      "                                                                 \n",
      "=================================================================\n",
      "Total params: 3,045\n",
      "Trainable params: 3,045\n",
      "Non-trainable params: 0\n",
      "_________________________________________________________________\n"
     ]
    }
   ],
   "source": [
    "model.summary()  # tf.keras.utils.plot_model(model, show_shapes=True)"
   ]
  },
  {
   "cell_type": "code",
   "execution_count": 12,
   "metadata": {
    "id": "MbMjOflQ9hE1"
   },
   "outputs": [],
   "source": [
    "# Model checkpoint callback\n",
    "cp_callback = tf.keras.callbacks.ModelCheckpoint(\n",
    "    model_save_path, verbose=1, save_weights_only=False, save_best_only=True)\n",
    "# Callback for early stopping\n",
    "es_callback = tf.keras.callbacks.EarlyStopping(patience=50, verbose=1)"
   ]
  },
  {
   "cell_type": "code",
   "execution_count": 13,
   "metadata": {
    "id": "c3Dac0M_9hE2"
   },
   "outputs": [],
   "source": [
    "# Model compilation\n",
    "model.compile(\n",
    "    optimizer='adam',\n",
    "    loss='sparse_categorical_crossentropy',\n",
    "    metrics=['accuracy']\n",
    ")"
   ]
  },
  {
   "cell_type": "markdown",
   "metadata": {
    "id": "7XI0j1Iu9hE2"
   },
   "source": [
    "# Model training"
   ]
  },
  {
   "cell_type": "code",
   "execution_count": 14,
   "metadata": {
    "id": "WirBl-JE9hE3",
    "scrolled": true
   },
   "outputs": [
    {
     "name": "stdout",
     "output_type": "stream",
     "text": [
      "Epoch 1/40\n"
     ]
    },
    {
     "name": "stderr",
     "output_type": "stream",
     "text": [
      "2022-12-21 16:46:52.704859: W tensorflow/core/platform/profile_utils/cpu_utils.cc:128] Failed to get CPU frequency: 0 Hz\n"
     ]
    },
    {
     "name": "stdout",
     "output_type": "stream",
     "text": [
      " 1/51 [..............................] - ETA: 11s - loss: 1.6167 - accuracy: 0.2656\n",
      "Epoch 1: val_loss improved from inf to 1.47862, saving model to keypoint_classifier/keypoint_classifier.hdf5\n",
      "51/51 [==============================] - 0s 3ms/step - loss: 1.5372 - accuracy: 0.3632 - val_loss: 1.4786 - val_accuracy: 0.4544\n",
      "Epoch 2/40\n",
      " 1/51 [..............................] - ETA: 0s - loss: 1.4419 - accuracy: 0.5000\n",
      "Epoch 2: val_loss improved from 1.47862 to 1.23444, saving model to keypoint_classifier/keypoint_classifier.hdf5\n",
      "51/51 [==============================] - 0s 1ms/step - loss: 1.3598 - accuracy: 0.4688 - val_loss: 1.2344 - val_accuracy: 0.5214\n",
      "Epoch 3/40\n",
      " 1/51 [..............................] - ETA: 0s - loss: 1.1592 - accuracy: 0.5938\n",
      "Epoch 3: val_loss improved from 1.23444 to 0.87270, saving model to keypoint_classifier/keypoint_classifier.hdf5\n",
      "51/51 [==============================] - 0s 1ms/step - loss: 1.0553 - accuracy: 0.7165 - val_loss: 0.8727 - val_accuracy: 0.8352\n",
      "Epoch 4/40\n",
      " 1/51 [..............................] - ETA: 0s - loss: 0.8990 - accuracy: 0.7344\n",
      "Epoch 4: val_loss improved from 0.87270 to 0.60323, saving model to keypoint_classifier/keypoint_classifier.hdf5\n",
      "51/51 [==============================] - 0s 1ms/step - loss: 0.7455 - accuracy: 0.8317 - val_loss: 0.6032 - val_accuracy: 0.8901\n",
      "Epoch 5/40\n",
      " 1/51 [..............................] - ETA: 0s - loss: 0.6334 - accuracy: 0.8906\n",
      "Epoch 5: val_loss improved from 0.60323 to 0.42768, saving model to keypoint_classifier/keypoint_classifier.hdf5\n",
      "51/51 [==============================] - 0s 1ms/step - loss: 0.5254 - accuracy: 0.8712 - val_loss: 0.4277 - val_accuracy: 0.9041\n",
      "Epoch 6/40\n",
      " 1/51 [..............................] - ETA: 0s - loss: 0.4061 - accuracy: 0.9062\n",
      "Epoch 6: val_loss improved from 0.42768 to 0.33222, saving model to keypoint_classifier/keypoint_classifier.hdf5\n",
      "51/51 [==============================] - 0s 1ms/step - loss: 0.3876 - accuracy: 0.8963 - val_loss: 0.3322 - val_accuracy: 0.9311\n",
      "Epoch 7/40\n",
      " 1/51 [..............................] - ETA: 0s - loss: 0.3067 - accuracy: 0.9219\n",
      "Epoch 7: val_loss improved from 0.33222 to 0.27075, saving model to keypoint_classifier/keypoint_classifier.hdf5\n",
      "51/51 [==============================] - 0s 1ms/step - loss: 0.3058 - accuracy: 0.9218 - val_loss: 0.2708 - val_accuracy: 0.9479\n",
      "Epoch 8/40\n",
      " 1/51 [..............................] - ETA: 0s - loss: 0.2751 - accuracy: 0.9219\n",
      "Epoch 8: val_loss improved from 0.27075 to 0.22420, saving model to keypoint_classifier/keypoint_classifier.hdf5\n",
      "51/51 [==============================] - 0s 1ms/step - loss: 0.2557 - accuracy: 0.9323 - val_loss: 0.2242 - val_accuracy: 0.9469\n",
      "Epoch 9/40\n",
      " 1/51 [..............................] - ETA: 0s - loss: 0.3494 - accuracy: 0.9062\n",
      "Epoch 9: val_loss improved from 0.22420 to 0.20840, saving model to keypoint_classifier/keypoint_classifier.hdf5\n",
      "51/51 [==============================] - 0s 1ms/step - loss: 0.2186 - accuracy: 0.9354 - val_loss: 0.2084 - val_accuracy: 0.9553\n",
      "Epoch 10/40\n",
      " 1/51 [..............................] - ETA: 0s - loss: 0.1411 - accuracy: 0.9688\n",
      "Epoch 10: val_loss improved from 0.20840 to 0.17819, saving model to keypoint_classifier/keypoint_classifier.hdf5\n",
      "51/51 [==============================] - 0s 1ms/step - loss: 0.1967 - accuracy: 0.9423 - val_loss: 0.1782 - val_accuracy: 0.9479\n",
      "Epoch 11/40\n",
      " 1/51 [..............................] - ETA: 0s - loss: 0.1916 - accuracy: 0.9531\n",
      "Epoch 11: val_loss improved from 0.17819 to 0.16164, saving model to keypoint_classifier/keypoint_classifier.hdf5\n",
      "51/51 [==============================] - 0s 1ms/step - loss: 0.1765 - accuracy: 0.9447 - val_loss: 0.1616 - val_accuracy: 0.9488\n",
      "Epoch 12/40\n",
      " 1/51 [..............................] - ETA: 0s - loss: 0.1258 - accuracy: 0.9688\n",
      "Epoch 12: val_loss improved from 0.16164 to 0.14976, saving model to keypoint_classifier/keypoint_classifier.hdf5\n",
      "51/51 [==============================] - 0s 1ms/step - loss: 0.1669 - accuracy: 0.9460 - val_loss: 0.1498 - val_accuracy: 0.9628\n",
      "Epoch 13/40\n",
      " 1/51 [..............................] - ETA: 0s - loss: 0.2035 - accuracy: 0.9062\n",
      "Epoch 13: val_loss improved from 0.14976 to 0.13897, saving model to keypoint_classifier/keypoint_classifier.hdf5\n",
      "51/51 [==============================] - 0s 1ms/step - loss: 0.1515 - accuracy: 0.9513 - val_loss: 0.1390 - val_accuracy: 0.9665\n",
      "Epoch 14/40\n",
      " 1/51 [..............................] - ETA: 0s - loss: 0.1423 - accuracy: 0.9219\n",
      "Epoch 14: val_loss improved from 0.13897 to 0.13552, saving model to keypoint_classifier/keypoint_classifier.hdf5\n",
      "51/51 [==============================] - 0s 1ms/step - loss: 0.1395 - accuracy: 0.9509 - val_loss: 0.1355 - val_accuracy: 0.9749\n",
      "Epoch 15/40\n",
      " 1/51 [..............................] - ETA: 0s - loss: 0.0858 - accuracy: 0.9844\n",
      "Epoch 15: val_loss improved from 0.13552 to 0.12322, saving model to keypoint_classifier/keypoint_classifier.hdf5\n",
      "51/51 [==============================] - 0s 1ms/step - loss: 0.1304 - accuracy: 0.9587 - val_loss: 0.1232 - val_accuracy: 0.9739\n",
      "Epoch 16/40\n",
      " 1/51 [..............................] - ETA: 0s - loss: 0.1016 - accuracy: 0.9531\n",
      "Epoch 16: val_loss improved from 0.12322 to 0.11642, saving model to keypoint_classifier/keypoint_classifier.hdf5\n",
      "51/51 [==============================] - 0s 1ms/step - loss: 0.1228 - accuracy: 0.9621 - val_loss: 0.1164 - val_accuracy: 0.9749\n",
      "Epoch 17/40\n",
      " 1/51 [..............................] - ETA: 0s - loss: 0.2229 - accuracy: 0.9219\n",
      "Epoch 17: val_loss improved from 0.11642 to 0.10856, saving model to keypoint_classifier/keypoint_classifier.hdf5\n",
      "51/51 [==============================] - 0s 1ms/step - loss: 0.1191 - accuracy: 0.9693 - val_loss: 0.1086 - val_accuracy: 0.9683\n",
      "Epoch 18/40\n",
      " 1/51 [..............................] - ETA: 0s - loss: 0.0690 - accuracy: 0.9688\n",
      "Epoch 18: val_loss improved from 0.10856 to 0.10620, saving model to keypoint_classifier/keypoint_classifier.hdf5\n",
      "51/51 [==============================] - 0s 1ms/step - loss: 0.1145 - accuracy: 0.9646 - val_loss: 0.1062 - val_accuracy: 0.9655\n",
      "Epoch 19/40\n",
      " 1/51 [..............................] - ETA: 0s - loss: 0.1835 - accuracy: 0.9375\n",
      "Epoch 19: val_loss improved from 0.10620 to 0.09725, saving model to keypoint_classifier/keypoint_classifier.hdf5\n",
      "51/51 [==============================] - 0s 1ms/step - loss: 0.1053 - accuracy: 0.9655 - val_loss: 0.0972 - val_accuracy: 0.9804\n",
      "Epoch 20/40\n",
      " 1/51 [..............................] - ETA: 0s - loss: 0.0803 - accuracy: 1.0000\n",
      "Epoch 20: val_loss improved from 0.09725 to 0.09667, saving model to keypoint_classifier/keypoint_classifier.hdf5\n",
      "51/51 [==============================] - 0s 1ms/step - loss: 0.0953 - accuracy: 0.9717 - val_loss: 0.0967 - val_accuracy: 0.9683\n",
      "Epoch 21/40\n",
      " 1/51 [..............................] - ETA: 0s - loss: 0.0998 - accuracy: 0.9531\n",
      "Epoch 21: val_loss did not improve from 0.09667\n",
      "51/51 [==============================] - 0s 1ms/step - loss: 0.0890 - accuracy: 0.9745 - val_loss: 0.1011 - val_accuracy: 0.9795\n",
      "Epoch 22/40\n",
      " 1/51 [..............................] - ETA: 0s - loss: 0.1154 - accuracy: 0.9844\n",
      "Epoch 22: val_loss improved from 0.09667 to 0.08169, saving model to keypoint_classifier/keypoint_classifier.hdf5\n",
      "51/51 [==============================] - 0s 1ms/step - loss: 0.0825 - accuracy: 0.9770 - val_loss: 0.0817 - val_accuracy: 0.9721\n",
      "Epoch 23/40\n",
      " 1/51 [..............................] - ETA: 0s - loss: 0.0845 - accuracy: 0.9531\n",
      "Epoch 23: val_loss improved from 0.08169 to 0.07187, saving model to keypoint_classifier/keypoint_classifier.hdf5\n",
      "51/51 [==============================] - 0s 1ms/step - loss: 0.0776 - accuracy: 0.9789 - val_loss: 0.0719 - val_accuracy: 0.9860\n",
      "Epoch 24/40\n",
      " 1/51 [..............................] - ETA: 0s - loss: 0.0637 - accuracy: 0.9688\n",
      "Epoch 24: val_loss improved from 0.07187 to 0.06596, saving model to keypoint_classifier/keypoint_classifier.hdf5\n",
      "51/51 [==============================] - 0s 1ms/step - loss: 0.0698 - accuracy: 0.9842 - val_loss: 0.0660 - val_accuracy: 0.9888\n",
      "Epoch 25/40\n",
      " 1/51 [..............................] - ETA: 0s - loss: 0.0650 - accuracy: 0.9844\n",
      "Epoch 25: val_loss improved from 0.06596 to 0.06292, saving model to keypoint_classifier/keypoint_classifier.hdf5\n",
      "51/51 [==============================] - 0s 1ms/step - loss: 0.0634 - accuracy: 0.9835 - val_loss: 0.0629 - val_accuracy: 0.9898\n",
      "Epoch 26/40\n",
      " 1/51 [..............................] - ETA: 0s - loss: 0.0730 - accuracy: 1.0000\n",
      "Epoch 26: val_loss improved from 0.06292 to 0.05666, saving model to keypoint_classifier/keypoint_classifier.hdf5\n",
      "51/51 [==============================] - 0s 1ms/step - loss: 0.0584 - accuracy: 0.9901 - val_loss: 0.0567 - val_accuracy: 0.9898\n",
      "Epoch 27/40\n",
      " 1/51 [..............................] - ETA: 0s - loss: 0.0498 - accuracy: 1.0000\n",
      "Epoch 27: val_loss improved from 0.05666 to 0.05502, saving model to keypoint_classifier/keypoint_classifier.hdf5\n",
      "51/51 [==============================] - 0s 1ms/step - loss: 0.0549 - accuracy: 0.9891 - val_loss: 0.0550 - val_accuracy: 0.9916\n",
      "Epoch 28/40\n",
      "29/51 [================>.............] - ETA: 0s - loss: 0.0438 - accuracy: 0.9930\n",
      "Epoch 28: val_loss did not improve from 0.05502\n",
      "51/51 [==============================] - 0s 2ms/step - loss: 0.0467 - accuracy: 0.9910 - val_loss: 0.0563 - val_accuracy: 0.9749\n",
      "Epoch 29/40\n",
      " 1/51 [..............................] - ETA: 0s - loss: 0.0459 - accuracy: 0.9688\n",
      "Epoch 29: val_loss improved from 0.05502 to 0.04302, saving model to keypoint_classifier/keypoint_classifier.hdf5\n",
      "51/51 [==============================] - 0s 1ms/step - loss: 0.0435 - accuracy: 0.9944 - val_loss: 0.0430 - val_accuracy: 0.9935\n",
      "Epoch 30/40\n",
      " 1/51 [..............................] - ETA: 0s - loss: 0.0318 - accuracy: 1.0000\n",
      "Epoch 30: val_loss improved from 0.04302 to 0.03845, saving model to keypoint_classifier/keypoint_classifier.hdf5\n",
      "51/51 [==============================] - 0s 1ms/step - loss: 0.0423 - accuracy: 0.9919 - val_loss: 0.0384 - val_accuracy: 0.9926\n",
      "Epoch 31/40\n",
      " 1/51 [..............................] - ETA: 0s - loss: 0.0306 - accuracy: 1.0000\n",
      "Epoch 31: val_loss improved from 0.03845 to 0.03462, saving model to keypoint_classifier/keypoint_classifier.hdf5\n",
      "51/51 [==============================] - 0s 1ms/step - loss: 0.0349 - accuracy: 0.9957 - val_loss: 0.0346 - val_accuracy: 0.9935\n",
      "Epoch 32/40\n",
      " 1/51 [..............................] - ETA: 0s - loss: 0.0431 - accuracy: 1.0000\n",
      "Epoch 32: val_loss did not improve from 0.03462\n",
      "51/51 [==============================] - 0s 1ms/step - loss: 0.0316 - accuracy: 0.9972 - val_loss: 0.0348 - val_accuracy: 0.9935\n",
      "Epoch 33/40\n",
      " 1/51 [..............................] - ETA: 0s - loss: 0.0156 - accuracy: 1.0000\n",
      "Epoch 33: val_loss improved from 0.03462 to 0.02850, saving model to keypoint_classifier/keypoint_classifier.hdf5\n",
      "51/51 [==============================] - 0s 1ms/step - loss: 0.0313 - accuracy: 0.9963 - val_loss: 0.0285 - val_accuracy: 0.9953\n",
      "Epoch 34/40\n",
      " 1/51 [..............................] - ETA: 0s - loss: 0.0188 - accuracy: 1.0000\n",
      "Epoch 34: val_loss improved from 0.02850 to 0.02740, saving model to keypoint_classifier/keypoint_classifier.hdf5\n",
      "51/51 [==============================] - 0s 1ms/step - loss: 0.0302 - accuracy: 0.9960 - val_loss: 0.0274 - val_accuracy: 0.9953\n",
      "Epoch 35/40\n",
      " 1/51 [..............................] - ETA: 0s - loss: 0.0182 - accuracy: 1.0000\n",
      "Epoch 35: val_loss did not improve from 0.02740\n",
      "51/51 [==============================] - 0s 1ms/step - loss: 0.0238 - accuracy: 0.9978 - val_loss: 0.0287 - val_accuracy: 0.9935\n",
      "Epoch 36/40\n",
      " 1/51 [..............................] - ETA: 0s - loss: 0.0222 - accuracy: 1.0000\n",
      "Epoch 36: val_loss did not improve from 0.02740\n",
      "51/51 [==============================] - 0s 861us/step - loss: 0.0222 - accuracy: 0.9981 - val_loss: 0.0309 - val_accuracy: 0.9944\n",
      "Epoch 37/40\n",
      " 1/51 [..............................] - ETA: 0s - loss: 0.0544 - accuracy: 0.9844\n",
      "Epoch 37: val_loss improved from 0.02740 to 0.02087, saving model to keypoint_classifier/keypoint_classifier.hdf5\n",
      "51/51 [==============================] - 0s 1ms/step - loss: 0.0206 - accuracy: 0.9988 - val_loss: 0.0209 - val_accuracy: 0.9953\n",
      "Epoch 38/40\n",
      " 1/51 [..............................] - ETA: 0s - loss: 0.0186 - accuracy: 1.0000\n",
      "Epoch 38: val_loss improved from 0.02087 to 0.01868, saving model to keypoint_classifier/keypoint_classifier.hdf5\n",
      "51/51 [==============================] - 0s 1ms/step - loss: 0.0192 - accuracy: 0.9988 - val_loss: 0.0187 - val_accuracy: 0.9981\n",
      "Epoch 39/40\n",
      " 1/51 [..............................] - ETA: 0s - loss: 0.0125 - accuracy: 1.0000\n",
      "Epoch 39: val_loss improved from 0.01868 to 0.01628, saving model to keypoint_classifier/keypoint_classifier.hdf5\n",
      "51/51 [==============================] - 0s 1ms/step - loss: 0.0172 - accuracy: 0.9994 - val_loss: 0.0163 - val_accuracy: 0.9981\n",
      "Epoch 40/40\n",
      " 1/51 [..............................] - ETA: 0s - loss: 0.0079 - accuracy: 1.0000\n",
      "Epoch 40: val_loss did not improve from 0.01628\n",
      "51/51 [==============================] - 0s 1ms/step - loss: 0.0155 - accuracy: 0.9997 - val_loss: 0.0248 - val_accuracy: 0.9944\n"
     ]
    },
    {
     "data": {
      "text/plain": [
       "<keras.callbacks.History at 0x295b641c0>"
      ]
     },
     "execution_count": 14,
     "metadata": {},
     "output_type": "execute_result"
    }
   ],
   "source": [
    "model.fit(\n",
    "    X_train,\n",
    "    y_train,\n",
    "    epochs=40,\n",
    "    batch_size=64,\n",
    "    validation_data=(X_test, y_test),\n",
    "    callbacks=[cp_callback, es_callback]\n",
    ")"
   ]
  },
  {
   "cell_type": "code",
   "execution_count": 15,
   "metadata": {
    "id": "RBkmDeUW9hE4"
   },
   "outputs": [],
   "source": [
    "# Loading the saved model\n",
    "model = tf.keras.models.load_model(model_save_path)"
   ]
  },
  {
   "cell_type": "code",
   "execution_count": 16,
   "metadata": {
    "colab": {
     "base_uri": "https://localhost:8080/"
    },
    "id": "pxvb2Y299hE3",
    "outputId": "7015e279-0501-4f24-d1b5-90652d2de17d"
   },
   "outputs": [
    {
     "name": "stdout",
     "output_type": "stream",
     "text": [
      "17/17 [==============================] - 0s 477us/step - loss: 0.0163 - accuracy: 0.9981\n"
     ]
    }
   ],
   "source": [
    "# Model evaluation\n",
    "# TODO Test on loaded model\n",
    "val_loss, val_acc = model.evaluate(X_test, y_test, batch_size=64)"
   ]
  },
  {
   "cell_type": "code",
   "execution_count": 15,
   "metadata": {},
   "outputs": [],
   "source": [
    "import tensorflow \n",
    "from tensorflow.keras.models import load_model"
   ]
  },
  {
   "cell_type": "code",
   "execution_count": 16,
   "metadata": {},
   "outputs": [],
   "source": [
    "model = load_model(model_save_path)"
   ]
  },
  {
   "cell_type": "markdown",
   "metadata": {
    "id": "S3U4yNWx9hE4"
   },
   "source": [
    "# Confusion matrix"
   ]
  },
  {
   "cell_type": "code",
   "execution_count": 17,
   "metadata": {
    "colab": {
     "base_uri": "https://localhost:8080/",
     "height": 646
    },
    "id": "AP1V6SCk9hE5",
    "outputId": "efce96b9-ca1c-44a5-ef77-58f1d5fc154c"
   },
   "outputs": [
    {
     "ename": "ModuleNotFoundError",
     "evalue": "No module named 'seaborn'",
     "output_type": "error",
     "traceback": [
      "\u001b[0;31m---------------------------------------------------------------------------\u001b[0m",
      "\u001b[0;31mModuleNotFoundError\u001b[0m                       Traceback (most recent call last)",
      "Cell \u001b[0;32mIn[17], line 2\u001b[0m\n\u001b[1;32m      1\u001b[0m \u001b[39mimport\u001b[39;00m \u001b[39mpandas\u001b[39;00m \u001b[39mas\u001b[39;00m \u001b[39mpd\u001b[39;00m\n\u001b[0;32m----> 2\u001b[0m \u001b[39mimport\u001b[39;00m \u001b[39mseaborn\u001b[39;00m \u001b[39mas\u001b[39;00m \u001b[39msns\u001b[39;00m\n\u001b[1;32m      3\u001b[0m \u001b[39mimport\u001b[39;00m \u001b[39mmatplotlib\u001b[39;00m\u001b[39m.\u001b[39;00m\u001b[39mpyplot\u001b[39;00m \u001b[39mas\u001b[39;00m \u001b[39mplt\u001b[39;00m\n\u001b[1;32m      4\u001b[0m \u001b[39mfrom\u001b[39;00m \u001b[39msklearn\u001b[39;00m\u001b[39m.\u001b[39;00m\u001b[39mmetrics\u001b[39;00m \u001b[39mimport\u001b[39;00m confusion_matrix, classification_report\n",
      "\u001b[0;31mModuleNotFoundError\u001b[0m: No module named 'seaborn'"
     ]
    }
   ],
   "source": [
    "import pandas as pd\n",
    "import seaborn as sns\n",
    "import matplotlib.pyplot as plt\n",
    "from sklearn.metrics import confusion_matrix, classification_report\n",
    "\n",
    "def print_confusion_matrix(y_true, y_pred, report=True):\n",
    "    labels = sorted(list(set(y_true)))\n",
    "    cmx_data = confusion_matrix(y_true, y_pred, labels=labels)\n",
    "    \n",
    "    df_cmx = pd.DataFrame(cmx_data, index=labels, columns=labels)\n",
    " \n",
    "    fig, ax = plt.subplots(figsize=(7, 6))\n",
    "    sns.heatmap(df_cmx, annot=True, fmt='g' ,square=False)\n",
    "    ax.set_ylim(len(set(y_true)), 0)\n",
    "    plt.show()\n",
    "    \n",
    "    if report:\n",
    "        print('Classification Report')\n",
    "        print(classification_report(y_test, y_pred))\n",
    "\n",
    "Y_pred = model.predict(X_test)\n",
    "y_pred = np.argmax(Y_pred, axis=1)\n",
    "\n",
    "print_confusion_matrix(y_test, y_pred)"
   ]
  }
 ],
 "metadata": {
  "accelerator": "GPU",
  "colab": {
   "collapsed_sections": [],
   "name": "Keypoint_model_training.ipynb",
   "provenance": [],
   "toc_visible": true
  },
  "kernelspec": {
   "display_name": "py39",
   "language": "python",
   "name": "python3"
  },
  "language_info": {
   "codemirror_mode": {
    "name": "ipython",
    "version": 3
   },
   "file_extension": ".py",
   "mimetype": "text/x-python",
   "name": "python",
   "nbconvert_exporter": "python",
   "pygments_lexer": "ipython3",
   "version": "3.9.15"
  },
  "vscode": {
   "interpreter": {
    "hash": "aa3dd84ef0f650d9d8b867844db5a915f08cb58b5d6dab20fc53865ee0283ae4"
   }
  }
 },
 "nbformat": 4,
 "nbformat_minor": 1
}
