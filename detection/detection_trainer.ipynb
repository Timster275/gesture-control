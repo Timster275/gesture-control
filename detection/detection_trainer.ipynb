{
 "cells": [
  {
   "attachments": {},
   "cell_type": "markdown",
   "metadata": {},
   "source": [
    "BY: https://github.com/AssanaliAbu/Hand-Gesture-Recognition"
   ]
  },
  {
   "cell_type": "code",
   "execution_count": 36,
   "metadata": {
    "id": "igMyGnjE9hEp"
   },
   "outputs": [],
   "source": [
    "import csv\n",
    "\n",
    "import numpy as np\n",
    "import pandas as pd\n",
    "import tensorflow as tf\n",
    "from sklearn.model_selection import train_test_split\n",
    "\n",
    "RANDOM_SEED = 42"
   ]
  },
  {
   "cell_type": "markdown",
   "metadata": {
    "id": "t2HDvhIu9hEr"
   },
   "source": [
    "# Specify each path"
   ]
  },
  {
   "cell_type": "code",
   "execution_count": 37,
   "metadata": {
    "id": "9NvZP2Zn9hEy"
   },
   "outputs": [],
   "source": [
    "# Specify data paths\n",
    "dataset = 'labels.csv'\n",
    "model_save_path = 'gesture_detection_model.hdf5'"
   ]
  },
  {
   "cell_type": "markdown",
   "metadata": {
    "id": "s5oMH7x19hEz"
   },
   "source": [
    "# Set number of classes"
   ]
  },
  {
   "cell_type": "code",
   "execution_count": 38,
   "metadata": {
    "id": "du4kodXL9hEz"
   },
   "outputs": [],
   "source": [
    "# Change training classes if necessary\n",
    "NUM_CLASSES = 2"
   ]
  },
  {
   "cell_type": "markdown",
   "metadata": {
    "id": "XjnL0uso9hEz"
   },
   "source": [
    "# Dataset reading"
   ]
  },
  {
   "cell_type": "code",
   "execution_count": 59,
   "metadata": {
    "id": "QT5ZqtEz9hE0"
   },
   "outputs": [],
   "source": [
    "X_dataset = np.loadtxt(dataset, delimiter=',', dtype='float32', usecols=list(range(1, (21 * 3) + 1)))"
   ]
  },
  {
   "cell_type": "code",
   "execution_count": 60,
   "metadata": {
    "id": "QmoKFsp49hE0"
   },
   "outputs": [],
   "source": [
    "y_dataset = np.loadtxt(dataset, delimiter=',', dtype='int32', usecols=(0))"
   ]
  },
  {
   "cell_type": "code",
   "execution_count": 61,
   "metadata": {
    "id": "xQU7JTZ_9hE0"
   },
   "outputs": [],
   "source": [
    "X_train, X_test, y_train, y_test = train_test_split(X_dataset, y_dataset, train_size=0.75, random_state=RANDOM_SEED)"
   ]
  },
  {
   "cell_type": "code",
   "execution_count": 62,
   "metadata": {
    "colab": {
     "base_uri": "https://localhost:8080/",
     "height": 279
    },
    "id": "xElG5FoPDQO9",
    "outputId": "2ef372ed-62e3-49c1-ad36-a5b5dc76701a"
   },
   "outputs": [
    {
     "name": "stdout",
     "output_type": "stream",
     "text": [
      "(array([0, 1], dtype=int32), array([2000, 2006]))\n"
     ]
    },
    {
     "data": {
      "image/png": "[encoded data removed]",
      "text/plain": [
       "<Figure size 640x480 with 1 Axes>"
      ]
     },
     "metadata": {},
     "output_type": "display_data"
    }
   ],
   "source": [
    "# Classes count\n",
    "counts = np.unique(y_dataset, return_counts=True)\n",
    "df = pd.DataFrame(counts)\n",
    "df.T.plot(kind=\"bar\", stacked=True)\n",
    "print(counts)"
   ]
  },
  {
   "cell_type": "markdown",
   "metadata": {
    "id": "mxK_lETT9hE0"
   },
   "source": [
    "# Model building"
   ]
  },
  {
   "cell_type": "code",
   "execution_count": 63,
   "metadata": {
    "id": "vHBmUf1t9hE1"
   },
   "outputs": [],
   "source": [
    "model = tf.keras.models.Sequential([\n",
    "    tf.keras.layers.Input(63),\n",
    "    tf.keras.layers.Dropout(0.0),\n",
    "    # tf.keras.layers.Dense(32, activation='relu'),\n",
    "    # tf.keras.layers.Dropout(0.0),\n",
    "    tf.keras.layers.Dense(32, activation='relu'),\n",
    "    tf.keras.layers.Dropout(0.0),\n",
    "    tf.keras.layers.Dense(16, activation='relu'),\n",
    "    tf.keras.layers.Dense(NUM_CLASSES, activation='softmax')\n",
    "])"
   ]
  },
  {
   "cell_type": "code",
   "execution_count": 64,
   "metadata": {
    "colab": {
     "base_uri": "https://localhost:8080/"
    },
    "id": "ypqky9tc9hE1",
    "outputId": "c42f3550-ceee-45b8-d40d-d99fd84a2616"
   },
   "outputs": [
    {
     "name": "stdout",
     "output_type": "stream",
     "text": [
      "Model: \"sequential_5\"\n",
      "_________________________________________________________________\n",
      " Layer (type)                Output Shape              Param #   \n",
      "=================================================================\n",
      " dropout_13 (Dropout)        (None, 63)                0         \n",
      "                                                                 \n",
      " dense_18 (Dense)            (None, 32)                2048      \n",
      "                                                                 \n",
      " dropout_14 (Dropout)        (None, 32)                0         \n",
      "                                                                 \n",
      " dense_19 (Dense)            (None, 16)                528       \n",
      "                                                                 \n",
      " dense_20 (Dense)            (None, 2)                 34        \n",
      "                                                                 \n",
      "=================================================================\n",
      "Total params: 2,610\n",
      "Trainable params: 2,610\n",
      "Non-trainable params: 0\n",
      "_________________________________________________________________\n"
     ]
    }
   ],
   "source": [
    "model.summary()  # tf.keras.utils.plot_model(model, show_shapes=True)"
   ]
  },
  {
   "cell_type": "code",
   "execution_count": 65,
   "metadata": {
    "id": "MbMjOflQ9hE1"
   },
   "outputs": [],
   "source": [
    "# Model checkpoint callback\n",
    "cp_callback = tf.keras.callbacks.ModelCheckpoint(\n",
    "    model_save_path, verbose=1, save_weights_only=False, save_best_only=True)\n",
    "# Callback for early stopping\n",
    "es_callback = tf.keras.callbacks.EarlyStopping(patience=50, verbose=1)"
   ]
  },
  {
   "cell_type": "code",
   "execution_count": 66,
   "metadata": {
    "id": "c3Dac0M_9hE2"
   },
   "outputs": [],
   "source": [
    "# Model compilation\n",
    "model.compile(\n",
    "    optimizer='adam',\n",
    "    loss='sparse_categorical_crossentropy',\n",
    "    metrics=['accuracy']\n",
    ")"
   ]
  },
  {
   "cell_type": "markdown",
   "metadata": {
    "id": "7XI0j1Iu9hE2"
   },
   "source": [
    "# Model training"
   ]
  },
  {
   "cell_type": "code",
   "execution_count": 67,
   "metadata": {
    "id": "WirBl-JE9hE3",
    "scrolled": true
   },
   "outputs": [
    {
     "name": "stdout",
     "output_type": "stream",
     "text": [
      "Epoch 1/40\n",
      " 1/70 [..............................] - ETA: 10s - loss: 0.9143 - accuracy: 0.4651\n",
      "Epoch 1: val_loss improved from inf to 0.33887, saving model to gesture_detection_model.hdf5\n",
      "70/70 [==============================] - 0s 2ms/step - loss: 0.5463 - accuracy: 0.8678 - val_loss: 0.3389 - val_accuracy: 0.9990\n",
      "Epoch 2/40\n",
      " 1/70 [..............................] - ETA: 0s - loss: 0.3414 - accuracy: 1.0000\n",
      "Epoch 2: val_loss improved from 0.33887 to 0.08526, saving model to gesture_detection_model.hdf5\n",
      "70/70 [==============================] - 0s 1ms/step - loss: 0.1898 - accuracy: 0.9983 - val_loss: 0.0853 - val_accuracy: 1.0000\n",
      "Epoch 3/40\n",
      " 1/70 [..............................] - ETA: 0s - loss: 0.0964 - accuracy: 1.0000\n",
      "Epoch 3: val_loss improved from 0.08526 to 0.02827, saving model to gesture_detection_model.hdf5\n",
      "70/70 [==============================] - 0s 1ms/step - loss: 0.0526 - accuracy: 1.0000 - val_loss: 0.0283 - val_accuracy: 1.0000\n",
      "Epoch 4/40\n",
      "67/70 [===========================>..] - ETA: 0s - loss: 0.0210 - accuracy: 1.0000\n",
      "Epoch 4: val_loss improved from 0.02827 to 0.01458, saving model to gesture_detection_model.hdf5\n",
      "70/70 [==============================] - 0s 1ms/step - loss: 0.0209 - accuracy: 1.0000 - val_loss: 0.0146 - val_accuracy: 1.0000\n",
      "Epoch 5/40\n",
      " 1/70 [..............................] - ETA: 0s - loss: 0.0105 - accuracy: 1.0000\n",
      "Epoch 5: val_loss improved from 0.01458 to 0.00800, saving model to gesture_detection_model.hdf5\n",
      "70/70 [==============================] - 0s 1ms/step - loss: 0.0112 - accuracy: 1.0000 - val_loss: 0.0080 - val_accuracy: 1.0000\n",
      "Epoch 6/40\n",
      " 1/70 [..............................] - ETA: 0s - loss: 0.0070 - accuracy: 1.0000\n",
      "Epoch 6: val_loss improved from 0.00800 to 0.00518, saving model to gesture_detection_model.hdf5\n",
      "70/70 [==============================] - 0s 1ms/step - loss: 0.0069 - accuracy: 1.0000 - val_loss: 0.0052 - val_accuracy: 1.0000\n",
      "Epoch 7/40\n",
      " 1/70 [..............................] - ETA: 0s - loss: 0.0081 - accuracy: 1.0000\n",
      "Epoch 7: val_loss improved from 0.00518 to 0.00368, saving model to gesture_detection_model.hdf5\n",
      "70/70 [==============================] - 0s 945us/step - loss: 0.0046 - accuracy: 1.0000 - val_loss: 0.0037 - val_accuracy: 1.0000\n",
      "Epoch 8/40\n",
      " 1/70 [..............................] - ETA: 0s - loss: 0.0021 - accuracy: 1.0000\n",
      "Epoch 8: val_loss improved from 0.00368 to 0.00273, saving model to gesture_detection_model.hdf5\n",
      "70/70 [==============================] - 0s 864us/step - loss: 0.0033 - accuracy: 1.0000 - val_loss: 0.0027 - val_accuracy: 1.0000\n",
      "Epoch 9/40\n",
      " 1/70 [..............................] - ETA: 0s - loss: 0.0031 - accuracy: 1.0000\n",
      "Epoch 9: val_loss improved from 0.00273 to 0.00210, saving model to gesture_detection_model.hdf5\n",
      "70/70 [==============================] - 0s 879us/step - loss: 0.0025 - accuracy: 1.0000 - val_loss: 0.0021 - val_accuracy: 1.0000\n",
      "Epoch 10/40\n",
      " 1/70 [..............................] - ETA: 0s - loss: 0.0024 - accuracy: 1.0000\n",
      "Epoch 10: val_loss improved from 0.00210 to 0.00169, saving model to gesture_detection_model.hdf5\n",
      "70/70 [==============================] - 0s 875us/step - loss: 0.0020 - accuracy: 1.0000 - val_loss: 0.0017 - val_accuracy: 1.0000\n",
      "Epoch 11/40\n",
      " 1/70 [..............................] - ETA: 0s - loss: 0.0031 - accuracy: 1.0000\n",
      "Epoch 11: val_loss improved from 0.00169 to 0.00135, saving model to gesture_detection_model.hdf5\n",
      "70/70 [==============================] - 0s 890us/step - loss: 0.0016 - accuracy: 1.0000 - val_loss: 0.0014 - val_accuracy: 1.0000\n",
      "Epoch 12/40\n",
      " 1/70 [..............................] - ETA: 0s - loss: 9.4992e-04 - accuracy: 1.0000\n",
      "Epoch 12: val_loss improved from 0.00135 to 0.00112, saving model to gesture_detection_model.hdf5\n",
      "70/70 [==============================] - 0s 901us/step - loss: 0.0013 - accuracy: 1.0000 - val_loss: 0.0011 - val_accuracy: 1.0000\n",
      "Epoch 13/40\n",
      "43/70 [=================>............] - ETA: 0s - loss: 0.0011 - accuracy: 1.0000  \n",
      "Epoch 13: val_loss improved from 0.00112 to 0.00094, saving model to gesture_detection_model.hdf5\n",
      "70/70 [==============================] - 0s 3ms/step - loss: 0.0011 - accuracy: 1.0000 - val_loss: 9.4249e-04 - val_accuracy: 1.0000\n",
      "Epoch 14/40\n",
      "50/70 [====================>.........] - ETA: 0s - loss: 8.8231e-04 - accuracy: 1.0000\n",
      "Epoch 14: val_loss improved from 0.00094 to 0.00081, saving model to gesture_detection_model.hdf5\n",
      "70/70 [==============================] - 0s 1ms/step - loss: 8.9977e-04 - accuracy: 1.0000 - val_loss: 8.0628e-04 - val_accuracy: 1.0000\n",
      "Epoch 15/40\n",
      " 1/70 [..............................] - ETA: 0s - loss: 6.4883e-04 - accuracy: 1.0000\n",
      "Epoch 15: val_loss improved from 0.00081 to 0.00070, saving model to gesture_detection_model.hdf5\n",
      "70/70 [==============================] - 0s 873us/step - loss: 7.6857e-04 - accuracy: 1.0000 - val_loss: 6.9670e-04 - val_accuracy: 1.0000\n",
      "Epoch 16/40\n",
      " 1/70 [..............................] - ETA: 0s - loss: 7.4603e-04 - accuracy: 1.0000\n",
      "Epoch 16: val_loss improved from 0.00070 to 0.00060, saving model to gesture_detection_model.hdf5\n",
      "70/70 [==============================] - 0s 912us/step - loss: 6.6733e-04 - accuracy: 1.0000 - val_loss: 6.0376e-04 - val_accuracy: 1.0000\n",
      "Epoch 17/40\n",
      " 1/70 [..............................] - ETA: 0s - loss: 3.1957e-04 - accuracy: 1.0000\n",
      "Epoch 17: val_loss improved from 0.00060 to 0.00053, saving model to gesture_detection_model.hdf5\n",
      "70/70 [==============================] - 0s 934us/step - loss: 5.7679e-04 - accuracy: 1.0000 - val_loss: 5.2998e-04 - val_accuracy: 1.0000\n",
      "Epoch 18/40\n",
      " 1/70 [..............................] - ETA: 0s - loss: 2.6777e-04 - accuracy: 1.0000\n",
      "Epoch 18: val_loss improved from 0.00053 to 0.00047, saving model to gesture_detection_model.hdf5\n",
      "70/70 [==============================] - 0s 932us/step - loss: 5.0960e-04 - accuracy: 1.0000 - val_loss: 4.6750e-04 - val_accuracy: 1.0000\n",
      "Epoch 19/40\n",
      " 1/70 [..............................] - ETA: 0s - loss: 5.5927e-04 - accuracy: 1.0000\n",
      "Epoch 19: val_loss improved from 0.00047 to 0.00042, saving model to gesture_detection_model.hdf5\n",
      "70/70 [==============================] - 0s 910us/step - loss: 4.4952e-04 - accuracy: 1.0000 - val_loss: 4.1665e-04 - val_accuracy: 1.0000\n",
      "Epoch 20/40\n",
      " 1/70 [..............................] - ETA: 0s - loss: 7.8332e-04 - accuracy: 1.0000\n",
      "Epoch 20: val_loss improved from 0.00042 to 0.00037, saving model to gesture_detection_model.hdf5\n",
      "70/70 [==============================] - 0s 1ms/step - loss: 4.0139e-04 - accuracy: 1.0000 - val_loss: 3.7224e-04 - val_accuracy: 1.0000\n",
      "Epoch 21/40\n",
      "67/70 [===========================>..] - ETA: 0s - loss: 3.5704e-04 - accuracy: 1.0000\n",
      "Epoch 21: val_loss improved from 0.00037 to 0.00033, saving model to gesture_detection_model.hdf5\n",
      "70/70 [==============================] - 0s 1ms/step - loss: 3.5827e-04 - accuracy: 1.0000 - val_loss: 3.3450e-04 - val_accuracy: 1.0000\n",
      "Epoch 22/40\n",
      " 1/70 [..............................] - ETA: 0s - loss: 4.1150e-04 - accuracy: 1.0000\n",
      "Epoch 22: val_loss improved from 0.00033 to 0.00030, saving model to gesture_detection_model.hdf5\n",
      "70/70 [==============================] - 0s 923us/step - loss: 3.2188e-04 - accuracy: 1.0000 - val_loss: 3.0164e-04 - val_accuracy: 1.0000\n",
      "Epoch 23/40\n",
      " 1/70 [..............................] - ETA: 0s - loss: 1.4914e-04 - accuracy: 1.0000\n",
      "Epoch 23: val_loss improved from 0.00030 to 0.00027, saving model to gesture_detection_model.hdf5\n",
      "70/70 [==============================] - 0s 1ms/step - loss: 2.9134e-04 - accuracy: 1.0000 - val_loss: 2.7331e-04 - val_accuracy: 1.0000\n",
      "Epoch 24/40\n",
      " 1/70 [..............................] - ETA: 0s - loss: 1.6329e-04 - accuracy: 1.0000\n",
      "Epoch 24: val_loss improved from 0.00027 to 0.00025, saving model to gesture_detection_model.hdf5\n",
      "70/70 [==============================] - 0s 968us/step - loss: 2.6558e-04 - accuracy: 1.0000 - val_loss: 2.5099e-04 - val_accuracy: 1.0000\n",
      "Epoch 25/40\n",
      " 1/70 [..............................] - ETA: 0s - loss: 1.8511e-04 - accuracy: 1.0000\n",
      "Epoch 25: val_loss improved from 0.00025 to 0.00023, saving model to gesture_detection_model.hdf5\n",
      "70/70 [==============================] - 0s 925us/step - loss: 2.3935e-04 - accuracy: 1.0000 - val_loss: 2.2732e-04 - val_accuracy: 1.0000\n",
      "Epoch 26/40\n",
      " 1/70 [..............................] - ETA: 0s - loss: 1.4938e-04 - accuracy: 1.0000\n",
      "Epoch 26: val_loss improved from 0.00023 to 0.00021, saving model to gesture_detection_model.hdf5\n",
      "70/70 [==============================] - 0s 922us/step - loss: 2.1935e-04 - accuracy: 1.0000 - val_loss: 2.0821e-04 - val_accuracy: 1.0000\n",
      "Epoch 27/40\n",
      " 1/70 [..............................] - ETA: 0s - loss: 4.8622e-04 - accuracy: 1.0000\n",
      "Epoch 27: val_loss improved from 0.00021 to 0.00019, saving model to gesture_detection_model.hdf5\n",
      "70/70 [==============================] - 0s 896us/step - loss: 2.0048e-04 - accuracy: 1.0000 - val_loss: 1.9126e-04 - val_accuracy: 1.0000\n",
      "Epoch 28/40\n",
      " 1/70 [..............................] - ETA: 0s - loss: 2.0743e-04 - accuracy: 1.0000\n",
      "Epoch 28: val_loss improved from 0.00019 to 0.00018, saving model to gesture_detection_model.hdf5\n",
      "70/70 [==============================] - 0s 913us/step - loss: 1.8311e-04 - accuracy: 1.0000 - val_loss: 1.7643e-04 - val_accuracy: 1.0000\n",
      "Epoch 29/40\n",
      " 1/70 [..............................] - ETA: 0s - loss: 1.8423e-04 - accuracy: 1.0000\n",
      "Epoch 29: val_loss improved from 0.00018 to 0.00016, saving model to gesture_detection_model.hdf5\n",
      "70/70 [==============================] - 0s 884us/step - loss: 1.6997e-04 - accuracy: 1.0000 - val_loss: 1.6224e-04 - val_accuracy: 1.0000\n",
      "Epoch 30/40\n",
      " 1/70 [..............................] - ETA: 0s - loss: 1.3528e-04 - accuracy: 1.0000\n",
      "Epoch 30: val_loss improved from 0.00016 to 0.00015, saving model to gesture_detection_model.hdf5\n",
      "70/70 [==============================] - 0s 980us/step - loss: 1.5685e-04 - accuracy: 1.0000 - val_loss: 1.4993e-04 - val_accuracy: 1.0000\n",
      "Epoch 31/40\n",
      " 1/70 [..............................] - ETA: 0s - loss: 4.1902e-04 - accuracy: 1.0000\n",
      "Epoch 31: val_loss improved from 0.00015 to 0.00014, saving model to gesture_detection_model.hdf5\n",
      "70/70 [==============================] - 0s 828us/step - loss: 1.4397e-04 - accuracy: 1.0000 - val_loss: 1.3908e-04 - val_accuracy: 1.0000\n",
      "Epoch 32/40\n",
      " 1/70 [..............................] - ETA: 0s - loss: 1.3836e-04 - accuracy: 1.0000\n",
      "Epoch 32: val_loss improved from 0.00014 to 0.00013, saving model to gesture_detection_model.hdf5\n",
      "70/70 [==============================] - 0s 831us/step - loss: 1.3368e-04 - accuracy: 1.0000 - val_loss: 1.2933e-04 - val_accuracy: 1.0000\n",
      "Epoch 33/40\n",
      " 1/70 [..............................] - ETA: 0s - loss: 7.1812e-05 - accuracy: 1.0000\n",
      "Epoch 33: val_loss improved from 0.00013 to 0.00012, saving model to gesture_detection_model.hdf5\n",
      "70/70 [==============================] - 0s 888us/step - loss: 1.2411e-04 - accuracy: 1.0000 - val_loss: 1.2005e-04 - val_accuracy: 1.0000\n",
      "Epoch 34/40\n",
      " 1/70 [..............................] - ETA: 0s - loss: 1.0291e-04 - accuracy: 1.0000\n",
      "Epoch 34: val_loss improved from 0.00012 to 0.00011, saving model to gesture_detection_model.hdf5\n",
      "70/70 [==============================] - 0s 1ms/step - loss: 1.1549e-04 - accuracy: 1.0000 - val_loss: 1.1172e-04 - val_accuracy: 1.0000\n",
      "Epoch 35/40\n",
      " 1/70 [..............................] - ETA: 0s - loss: 6.8750e-05 - accuracy: 1.0000\n",
      "Epoch 35: val_loss improved from 0.00011 to 0.00010, saving model to gesture_detection_model.hdf5\n",
      "70/70 [==============================] - 0s 846us/step - loss: 1.0725e-04 - accuracy: 1.0000 - val_loss: 1.0433e-04 - val_accuracy: 1.0000\n",
      "Epoch 36/40\n",
      " 1/70 [..............................] - ETA: 0s - loss: 1.5101e-04 - accuracy: 1.0000\n",
      "Epoch 36: val_loss improved from 0.00010 to 0.00010, saving model to gesture_detection_model.hdf5\n",
      "70/70 [==============================] - 0s 829us/step - loss: 1.0040e-04 - accuracy: 1.0000 - val_loss: 9.7527e-05 - val_accuracy: 1.0000\n",
      "Epoch 37/40\n",
      " 1/70 [..............................] - ETA: 0s - loss: 6.7274e-05 - accuracy: 1.0000\n",
      "Epoch 37: val_loss improved from 0.00010 to 0.00009, saving model to gesture_detection_model.hdf5\n",
      "70/70 [==============================] - 0s 861us/step - loss: 9.3307e-05 - accuracy: 1.0000 - val_loss: 9.1044e-05 - val_accuracy: 1.0000\n",
      "Epoch 38/40\n",
      " 1/70 [..............................] - ETA: 0s - loss: 6.7654e-05 - accuracy: 1.0000\n",
      "Epoch 38: val_loss improved from 0.00009 to 0.00009, saving model to gesture_detection_model.hdf5\n",
      "70/70 [==============================] - 0s 952us/step - loss: 8.7621e-05 - accuracy: 1.0000 - val_loss: 8.5391e-05 - val_accuracy: 1.0000\n",
      "Epoch 39/40\n",
      " 1/70 [..............................] - ETA: 0s - loss: 1.1240e-04 - accuracy: 1.0000\n",
      "Epoch 39: val_loss improved from 0.00009 to 0.00008, saving model to gesture_detection_model.hdf5\n",
      "70/70 [==============================] - 0s 927us/step - loss: 8.2018e-05 - accuracy: 1.0000 - val_loss: 8.0168e-05 - val_accuracy: 1.0000\n",
      "Epoch 40/40\n",
      " 1/70 [..............................] - ETA: 0s - loss: 8.6966e-05 - accuracy: 1.0000\n",
      "Epoch 40: val_loss improved from 0.00008 to 0.00008, saving model to gesture_detection_model.hdf5\n",
      "70/70 [==============================] - 0s 818us/step - loss: 7.6620e-05 - accuracy: 1.0000 - val_loss: 7.5084e-05 - val_accuracy: 1.0000\n"
     ]
    },
    {
     "data": {
      "text/plain": [
       "<keras.callbacks.History at 0x295e21370>"
      ]
     },
     "execution_count": 67,
     "metadata": {},
     "output_type": "execute_result"
    }
   ],
   "source": [
    "model.fit(\n",
    "    X_train,\n",
    "    y_train,\n",
    "    epochs=40,\n",
    "    batch_size=43,\n",
    "    validation_data=(X_test, y_test),\n",
    "    callbacks=[cp_callback, es_callback]\n",
    ")"
   ]
  },
  {
   "cell_type": "code",
   "execution_count": 34,
   "metadata": {
    "id": "RBkmDeUW9hE4"
   },
   "outputs": [],
   "source": [
    "# Loading the saved model\n",
    "model = tf.keras.models.load_model(model_save_path)"
   ]
  },
  {
   "cell_type": "code",
   "execution_count": 35,
   "metadata": {
    "colab": {
     "base_uri": "https://localhost:8080/"
    },
    "id": "pxvb2Y299hE3",
    "outputId": "7015e279-0501-4f24-d1b5-90652d2de17d"
   },
   "outputs": [
    {
     "name": "stdout",
     "output_type": "stream",
     "text": [
      "16/16 [==============================] - 0s 488us/step - loss: 5.7846e-05 - accuracy: 1.0000\n"
     ]
    }
   ],
   "source": [
    "# Model evaluation\n",
    "# TODO Test on loaded model\n",
    "val_loss, val_acc = model.evaluate(X_test, y_test, batch_size=64)"
   ]
  },
  {
   "cell_type": "code",
   "execution_count": 15,
   "metadata": {},
   "outputs": [],
   "source": [
    "import tensorflow \n",
    "from tensorflow.keras.models import load_model"
   ]
  },
  {
   "cell_type": "code",
   "execution_count": 16,
   "metadata": {},
   "outputs": [],
   "source": [
    "model = load_model(model_save_path)"
   ]
  },
  {
   "cell_type": "markdown",
   "metadata": {
    "id": "S3U4yNWx9hE4"
   },
   "source": [
    "# Confusion matrix"
   ]
  },
  {
   "cell_type": "code",
   "execution_count": 17,
   "metadata": {
    "colab": {
     "base_uri": "https://localhost:8080/",
     "height": 646
    },
    "id": "AP1V6SCk9hE5",
    "outputId": "efce96b9-ca1c-44a5-ef77-58f1d5fc154c"
   },
   "outputs": [
    {
     "ename": "ModuleNotFoundError",
     "evalue": "No module named 'seaborn'",
     "output_type": "error",
     "traceback": [
      "\u001b[0;31m---------------------------------------------------------------------------\u001b[0m",
      "\u001b[0;31mModuleNotFoundError\u001b[0m                       Traceback (most recent call last)",
      "Cell \u001b[0;32mIn[17], line 2\u001b[0m\n\u001b[1;32m      1\u001b[0m \u001b[39mimport\u001b[39;00m \u001b[39mpandas\u001b[39;00m \u001b[39mas\u001b[39;00m \u001b[39mpd\u001b[39;00m\n\u001b[0;32m----> 2\u001b[0m \u001b[39mimport\u001b[39;00m \u001b[39mseaborn\u001b[39;00m \u001b[39mas\u001b[39;00m \u001b[39msns\u001b[39;00m\n\u001b[1;32m      3\u001b[0m \u001b[39mimport\u001b[39;00m \u001b[39mmatplotlib\u001b[39;00m\u001b[39m.\u001b[39;00m\u001b[39mpyplot\u001b[39;00m \u001b[39mas\u001b[39;00m \u001b[39mplt\u001b[39;00m\n\u001b[1;32m      4\u001b[0m \u001b[39mfrom\u001b[39;00m \u001b[39msklearn\u001b[39;00m\u001b[39m.\u001b[39;00m\u001b[39mmetrics\u001b[39;00m \u001b[39mimport\u001b[39;00m confusion_matrix, classification_report\n",
      "\u001b[0;31mModuleNotFoundError\u001b[0m: No module named 'seaborn'"
     ]
    }
   ],
   "source": [
    "import pandas as pd\n",
    "import seaborn as sns\n",
    "import matplotlib.pyplot as plt\n",
    "from sklearn.metrics import confusion_matrix, classification_report\n",
    "\n",
    "def print_confusion_matrix(y_true, y_pred, report=True):\n",
    "    labels = sorted(list(set(y_true)))\n",
    "    cmx_data = confusion_matrix(y_true, y_pred, labels=labels)\n",
    "    \n",
    "    df_cmx = pd.DataFrame(cmx_data, index=labels, columns=labels)\n",
    " \n",
    "    fig, ax = plt.subplots(figsize=(7, 6))\n",
    "    sns.heatmap(df_cmx, annot=True, fmt='g' ,square=False)\n",
    "    ax.set_ylim(len(set(y_true)), 0)\n",
    "    plt.show()\n",
    "    \n",
    "    if report:\n",
    "        print('Classification Report')\n",
    "        print(classification_report(y_test, y_pred))\n",
    "\n",
    "Y_pred = model.predict(X_test)\n",
    "y_pred = np.argmax(Y_pred, axis=1)\n",
    "\n",
    "print_confusion_matrix(y_test, y_pred)"
   ]
  }
 ],
 "metadata": {
  "accelerator": "GPU",
  "colab": {
   "collapsed_sections": [],
   "name": "Keypoint_model_training.ipynb",
   "provenance": [],
   "toc_visible": true
  },
  "kernelspec": {
   "display_name": "py39",
   "language": "python",
   "name": "python3"
  },
  "language_info": {
   "codemirror_mode": {
    "name": "ipython",
    "version": 3
   },
   "file_extension": ".py",
   "mimetype": "text/x-python",
   "name": "python",
   "nbconvert_exporter": "python",
   "pygments_lexer": "ipython3",
   "version": "3.9.15"
  },
  "vscode": {
   "interpreter": {
    "hash": "aa3dd84ef0f650d9d8b867844db5a915f08cb58b5d6dab20fc53865ee0283ae4"
   }
  }
 },
 "nbformat": 4,
 "nbformat_minor": 1
}
