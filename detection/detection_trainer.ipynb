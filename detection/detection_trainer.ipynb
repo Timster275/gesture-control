{
 "cells": [
  {
   "cell_type": "code",
   "execution_count": 1,
   "metadata": {
    "id": "igMyGnjE9hEp"
   },
   "outputs": [],
   "source": [
    "import csv\n",
    "\n",
    "import numpy as np\n",
    "import pandas as pd\n",
    "import tensorflow as tf\n",
    "from sklearn.model_selection import train_test_split\n",
    "\n",
    "RANDOM_SEED = 42"
   ]
  },
  {
   "cell_type": "markdown",
   "metadata": {
    "id": "t2HDvhIu9hEr"
   },
   "source": [
    "# Specify each path"
   ]
  },
  {
   "cell_type": "code",
   "execution_count": 2,
   "metadata": {
    "id": "9NvZP2Zn9hEy"
   },
   "outputs": [],
   "source": [
    "# Specify data paths\n",
    "dataset = 'keypoint.csv'\n",
    "model_save_path = 'keypoint_classifier/keypoint_classifier.hdf5'"
   ]
  },
  {
   "cell_type": "markdown",
   "metadata": {
    "id": "s5oMH7x19hEz"
   },
   "source": [
    "# Set number of classes"
   ]
  },
  {
   "cell_type": "code",
   "execution_count": 3,
   "metadata": {
    "id": "du4kodXL9hEz"
   },
   "outputs": [],
   "source": [
    "# Change training classes if necessary\n",
    "NUM_CLASSES = 8"
   ]
  },
  {
   "cell_type": "markdown",
   "metadata": {
    "id": "XjnL0uso9hEz"
   },
   "source": [
    "# Dataset reading"
   ]
  },
  {
   "cell_type": "code",
   "execution_count": 4,
   "metadata": {
    "id": "QT5ZqtEz9hE0"
   },
   "outputs": [],
   "source": [
    "X_dataset = np.loadtxt(dataset, delimiter=',', dtype='float32', usecols=list(range(1, (21 * 2) + 1)))"
   ]
  },
  {
   "cell_type": "code",
   "execution_count": 5,
   "metadata": {
    "id": "QmoKFsp49hE0"
   },
   "outputs": [],
   "source": [
    "y_dataset = np.loadtxt(dataset, delimiter=',', dtype='int32', usecols=(0))"
   ]
  },
  {
   "cell_type": "code",
   "execution_count": 6,
   "metadata": {
    "id": "xQU7JTZ_9hE0"
   },
   "outputs": [],
   "source": [
    "X_train, X_test, y_train, y_test = train_test_split(X_dataset, y_dataset, train_size=0.75, random_state=RANDOM_SEED)"
   ]
  },
  {
   "cell_type": "code",
   "execution_count": 7,
   "metadata": {
    "colab": {
     "base_uri": "https://localhost:8080/",
     "height": 279
    },
    "id": "xElG5FoPDQO9",
    "outputId": "2ef372ed-62e3-49c1-ad36-a5b5dc76701a"
   },
   "outputs": [
    {
     "name": "stdout",
     "output_type": "stream",
     "text": [
      "(array([0, 1, 2, 3, 4, 5, 6, 7]), array([1595, 1663, 1510,  672,  164,  257,  139,  190], dtype=int64))\n"
     ]
    },
    {
     "data": {
      "image/png": "[encoded data removed]",
      "text/plain": [
       "<Figure size 432x288 with 1 Axes>"
      ]
     },
     "metadata": {
      "needs_background": "light"
     },
     "output_type": "display_data"
    }
   ],
   "source": [
    "# Classes count\n",
    "counts = np.unique(y_dataset, return_counts=True)\n",
    "df = pd.DataFrame(counts)\n",
    "df.T.plot(kind=\"bar\", stacked=True)\n",
    "print(counts)"
   ]
  },
  {
   "cell_type": "markdown",
   "metadata": {
    "id": "mxK_lETT9hE0"
   },
   "source": [
    "# Model building"
   ]
  },
  {
   "cell_type": "code",
   "execution_count": 8,
   "metadata": {
    "id": "vHBmUf1t9hE1"
   },
   "outputs": [],
   "source": [
    "model = tf.keras.models.Sequential([\n",
    "    tf.keras.layers.Input((21 * 2, )),\n",
    "    tf.keras.layers.Dropout(0.0),\n",
    "    tf.keras.layers.Dense(32, activation='relu'),\n",
    "    tf.keras.layers.Dropout(0.0),\n",
    "    tf.keras.layers.Dense(32, activation='relu'),\n",
    "    tf.keras.layers.Dropout(0.0),\n",
    "    tf.keras.layers.Dense(16, activation='relu'),\n",
    "    tf.keras.layers.Dense(NUM_CLASSES, activation='softmax')\n",
    "])"
   ]
  },
  {
   "cell_type": "code",
   "execution_count": 9,
   "metadata": {
    "colab": {
     "base_uri": "https://localhost:8080/"
    },
    "id": "ypqky9tc9hE1",
    "outputId": "c42f3550-ceee-45b8-d40d-d99fd84a2616"
   },
   "outputs": [
    {
     "name": "stdout",
     "output_type": "stream",
     "text": [
      "Model: \"sequential\"\n",
      "_________________________________________________________________\n",
      "Layer (type)                 Output Shape              Param #   \n",
      "=================================================================\n",
      "dropout (Dropout)            (None, 42)                0         \n",
      "_________________________________________________________________\n",
      "dense (Dense)                (None, 32)                1376      \n",
      "_________________________________________________________________\n",
      "dropout_1 (Dropout)          (None, 32)                0         \n",
      "_________________________________________________________________\n",
      "dense_1 (Dense)              (None, 32)                1056      \n",
      "_________________________________________________________________\n",
      "dropout_2 (Dropout)          (None, 32)                0         \n",
      "_________________________________________________________________\n",
      "dense_2 (Dense)              (None, 16)                528       \n",
      "_________________________________________________________________\n",
      "dense_3 (Dense)              (None, 8)                 136       \n",
      "=================================================================\n",
      "Total params: 3,096\n",
      "Trainable params: 3,096\n",
      "Non-trainable params: 0\n",
      "_________________________________________________________________\n"
     ]
    }
   ],
   "source": [
    "model.summary()  # tf.keras.utils.plot_model(model, show_shapes=True)"
   ]
  },
  {
   "cell_type": "code",
   "execution_count": 12,
   "metadata": {
    "id": "MbMjOflQ9hE1"
   },
   "outputs": [],
   "source": [
    "# Model checkpoint callback\n",
    "cp_callback = tf.keras.callbacks.ModelCheckpoint(\n",
    "    model_save_path, verbose=1, save_weights_only=False, save_best_only=True)\n",
    "# Callback for early stopping\n",
    "es_callback = tf.keras.callbacks.EarlyStopping(patience=50, verbose=1)"
   ]
  },
  {
   "cell_type": "code",
   "execution_count": 13,
   "metadata": {
    "id": "c3Dac0M_9hE2"
   },
   "outputs": [],
   "source": [
    "# Model compilation\n",
    "model.compile(\n",
    "    optimizer='adam',\n",
    "    loss='sparse_categorical_crossentropy',\n",
    "    metrics=['accuracy']\n",
    ")"
   ]
  },
  {
   "cell_type": "markdown",
   "metadata": {
    "id": "7XI0j1Iu9hE2"
   },
   "source": [
    "# Model training"
   ]
  },
  {
   "cell_type": "code",
   "execution_count": 14,
   "metadata": {
    "id": "WirBl-JE9hE3",
    "scrolled": true
   },
   "outputs": [
    {
     "name": "stdout",
     "output_type": "stream",
     "text": [
      "Epoch 1/40\n",
      "73/73 [==============================] - 5s 13ms/step - loss: 1.8479 - accuracy: 0.2609 - val_loss: 1.5565 - val_accuracy: 0.5097\n",
      "\n",
      "Epoch 00001: val_loss improved from inf to 1.55646, saving model to keypoint_classifier\\keypoint_classifier.hdf5\n",
      "Epoch 2/40\n",
      "73/73 [==============================] - 0s 6ms/step - loss: 1.2393 - accuracy: 0.5980 - val_loss: 0.9328 - val_accuracy: 0.7293\n",
      "\n",
      "Epoch 00002: val_loss improved from 1.55646 to 0.93276, saving model to keypoint_classifier\\keypoint_classifier.hdf5\n",
      "Epoch 3/40\n",
      "73/73 [==============================] - 0s 6ms/step - loss: 0.7343 - accuracy: 0.7751 - val_loss: 0.5523 - val_accuracy: 0.8404\n",
      "\n",
      "Epoch 00003: val_loss improved from 0.93276 to 0.55233, saving model to keypoint_classifier\\keypoint_classifier.hdf5\n",
      "Epoch 4/40\n",
      "73/73 [==============================] - 0s 5ms/step - loss: 0.4662 - accuracy: 0.8501 - val_loss: 0.3588 - val_accuracy: 0.8882\n",
      "\n",
      "Epoch 00004: val_loss improved from 0.55233 to 0.35877, saving model to keypoint_classifier\\keypoint_classifier.hdf5\n",
      "Epoch 5/40\n",
      "73/73 [==============================] - 0s 6ms/step - loss: 0.3300 - accuracy: 0.9046 - val_loss: 0.2565 - val_accuracy: 0.9380\n",
      "\n",
      "Epoch 00005: val_loss improved from 0.35877 to 0.25650, saving model to keypoint_classifier\\keypoint_classifier.hdf5\n",
      "Epoch 6/40\n",
      "73/73 [==============================] - 0s 6ms/step - loss: 0.2596 - accuracy: 0.9285 - val_loss: 0.2150 - val_accuracy: 0.9432\n",
      "\n",
      "Epoch 00006: val_loss improved from 0.25650 to 0.21499, saving model to keypoint_classifier\\keypoint_classifier.hdf5\n",
      "Epoch 7/40\n",
      "73/73 [==============================] - 0s 6ms/step - loss: 0.2188 - accuracy: 0.9395 - val_loss: 0.1801 - val_accuracy: 0.9490\n",
      "\n",
      "Epoch 00007: val_loss improved from 0.21499 to 0.18012, saving model to keypoint_classifier\\keypoint_classifier.hdf5\n",
      "Epoch 8/40\n",
      "73/73 [==============================] - 0s 6ms/step - loss: 0.1876 - accuracy: 0.9479 - val_loss: 0.1525 - val_accuracy: 0.9638\n",
      "\n",
      "Epoch 00008: val_loss improved from 0.18012 to 0.15255, saving model to keypoint_classifier\\keypoint_classifier.hdf5\n",
      "Epoch 9/40\n",
      "73/73 [==============================] - 0s 5ms/step - loss: 0.1653 - accuracy: 0.9539 - val_loss: 0.1341 - val_accuracy: 0.9664\n",
      "\n",
      "Epoch 00009: val_loss improved from 0.15255 to 0.13414, saving model to keypoint_classifier\\keypoint_classifier.hdf5\n",
      "Epoch 10/40\n",
      "73/73 [==============================] - 0s 5ms/step - loss: 0.1525 - accuracy: 0.9567 - val_loss: 0.1322 - val_accuracy: 0.9664\n",
      "\n",
      "Epoch 00010: val_loss improved from 0.13414 to 0.13217, saving model to keypoint_classifier\\keypoint_classifier.hdf5\n",
      "Epoch 11/40\n",
      "73/73 [==============================] - 0s 5ms/step - loss: 0.1356 - accuracy: 0.9623 - val_loss: 0.1167 - val_accuracy: 0.9671\n",
      "\n",
      "Epoch 00011: val_loss improved from 0.13217 to 0.11666, saving model to keypoint_classifier\\keypoint_classifier.hdf5\n",
      "Epoch 12/40\n",
      "73/73 [==============================] - 0s 6ms/step - loss: 0.1256 - accuracy: 0.9649 - val_loss: 0.0976 - val_accuracy: 0.9787\n",
      "\n",
      "Epoch 00012: val_loss improved from 0.11666 to 0.09762, saving model to keypoint_classifier\\keypoint_classifier.hdf5\n",
      "Epoch 13/40\n",
      "73/73 [==============================] - 0s 6ms/step - loss: 0.1103 - accuracy: 0.9701 - val_loss: 0.0918 - val_accuracy: 0.9787\n",
      "\n",
      "Epoch 00013: val_loss improved from 0.09762 to 0.09176, saving model to keypoint_classifier\\keypoint_classifier.hdf5\n",
      "Epoch 14/40\n",
      "73/73 [==============================] - 0s 6ms/step - loss: 0.0990 - accuracy: 0.9748 - val_loss: 0.0839 - val_accuracy: 0.9819\n",
      "\n",
      "Epoch 00014: val_loss improved from 0.09176 to 0.08386, saving model to keypoint_classifier\\keypoint_classifier.hdf5\n",
      "Epoch 15/40\n",
      "73/73 [==============================] - 0s 6ms/step - loss: 0.0906 - accuracy: 0.9789 - val_loss: 0.0751 - val_accuracy: 0.9877\n",
      "\n",
      "Epoch 00015: val_loss improved from 0.08386 to 0.07509, saving model to keypoint_classifier\\keypoint_classifier.hdf5\n",
      "Epoch 16/40\n",
      "73/73 [==============================] - 1s 7ms/step - loss: 0.0822 - accuracy: 0.9808 - val_loss: 0.0642 - val_accuracy: 0.9890\n",
      "\n",
      "Epoch 00016: val_loss improved from 0.07509 to 0.06420, saving model to keypoint_classifier\\keypoint_classifier.hdf5\n",
      "Epoch 17/40\n",
      "73/73 [==============================] - 0s 7ms/step - loss: 0.0738 - accuracy: 0.9841 - val_loss: 0.0675 - val_accuracy: 0.9871\n",
      "\n",
      "Epoch 00017: val_loss did not improve from 0.06420\n",
      "Epoch 18/40\n",
      "73/73 [==============================] - 0s 6ms/step - loss: 0.0692 - accuracy: 0.9830 - val_loss: 0.0559 - val_accuracy: 0.9897\n",
      "\n",
      "Epoch 00018: val_loss improved from 0.06420 to 0.05594, saving model to keypoint_classifier\\keypoint_classifier.hdf5\n",
      "Epoch 19/40\n",
      "73/73 [==============================] - 0s 6ms/step - loss: 0.0637 - accuracy: 0.9851 - val_loss: 0.0600 - val_accuracy: 0.9903\n",
      "\n",
      "Epoch 00019: val_loss did not improve from 0.05594\n",
      "Epoch 20/40\n",
      "73/73 [==============================] - 0s 6ms/step - loss: 0.0587 - accuracy: 0.9864 - val_loss: 0.0551 - val_accuracy: 0.9864\n",
      "\n",
      "Epoch 00020: val_loss improved from 0.05594 to 0.05513, saving model to keypoint_classifier\\keypoint_classifier.hdf5\n",
      "Epoch 21/40\n",
      "73/73 [==============================] - 0s 6ms/step - loss: 0.0580 - accuracy: 0.9871 - val_loss: 0.0462 - val_accuracy: 0.9903\n",
      "\n",
      "Epoch 00021: val_loss improved from 0.05513 to 0.04616, saving model to keypoint_classifier\\keypoint_classifier.hdf5\n",
      "Epoch 22/40\n",
      "73/73 [==============================] - 0s 6ms/step - loss: 0.0513 - accuracy: 0.9879 - val_loss: 0.0437 - val_accuracy: 0.9897\n",
      "\n",
      "Epoch 00022: val_loss improved from 0.04616 to 0.04366, saving model to keypoint_classifier\\keypoint_classifier.hdf5\n",
      "Epoch 23/40\n",
      "73/73 [==============================] - 0s 6ms/step - loss: 0.0478 - accuracy: 0.9890 - val_loss: 0.0420 - val_accuracy: 0.9916\n",
      "\n",
      "Epoch 00023: val_loss improved from 0.04366 to 0.04204, saving model to keypoint_classifier\\keypoint_classifier.hdf5\n",
      "Epoch 24/40\n",
      "73/73 [==============================] - 0s 5ms/step - loss: 0.0467 - accuracy: 0.9884 - val_loss: 0.0398 - val_accuracy: 0.9916\n",
      "\n",
      "Epoch 00024: val_loss improved from 0.04204 to 0.03977, saving model to keypoint_classifier\\keypoint_classifier.hdf5\n",
      "Epoch 25/40\n",
      "73/73 [==============================] - 0s 6ms/step - loss: 0.0421 - accuracy: 0.9914 - val_loss: 0.0345 - val_accuracy: 0.9935\n",
      "\n",
      "Epoch 00025: val_loss improved from 0.03977 to 0.03446, saving model to keypoint_classifier\\keypoint_classifier.hdf5\n",
      "Epoch 26/40\n",
      "73/73 [==============================] - 0s 6ms/step - loss: 0.0414 - accuracy: 0.9899 - val_loss: 0.0337 - val_accuracy: 0.9942\n",
      "\n",
      "Epoch 00026: val_loss improved from 0.03446 to 0.03367, saving model to keypoint_classifier\\keypoint_classifier.hdf5\n",
      "Epoch 27/40\n",
      "73/73 [==============================] - 0s 6ms/step - loss: 0.0371 - accuracy: 0.9914 - val_loss: 0.0316 - val_accuracy: 0.9935\n",
      "\n",
      "Epoch 00027: val_loss improved from 0.03367 to 0.03160, saving model to keypoint_classifier\\keypoint_classifier.hdf5\n",
      "Epoch 28/40\n",
      "73/73 [==============================] - 0s 7ms/step - loss: 0.0340 - accuracy: 0.9918 - val_loss: 0.0340 - val_accuracy: 0.9922\n",
      "\n",
      "Epoch 00028: val_loss did not improve from 0.03160\n",
      "Epoch 29/40\n",
      "73/73 [==============================] - 0s 6ms/step - loss: 0.0341 - accuracy: 0.9927 - val_loss: 0.0286 - val_accuracy: 0.9942\n",
      "\n",
      "Epoch 00029: val_loss improved from 0.03160 to 0.02863, saving model to keypoint_classifier\\keypoint_classifier.hdf5\n",
      "Epoch 30/40\n",
      "73/73 [==============================] - 1s 7ms/step - loss: 0.0352 - accuracy: 0.9916 - val_loss: 0.0268 - val_accuracy: 0.9929\n",
      "\n",
      "Epoch 00030: val_loss improved from 0.02863 to 0.02683, saving model to keypoint_classifier\\keypoint_classifier.hdf5\n",
      "Epoch 31/40\n",
      "73/73 [==============================] - 0s 6ms/step - loss: 0.0304 - accuracy: 0.9931 - val_loss: 0.0297 - val_accuracy: 0.9903\n",
      "\n",
      "Epoch 00031: val_loss did not improve from 0.02683\n",
      "Epoch 32/40\n",
      "73/73 [==============================] - 0s 5ms/step - loss: 0.0296 - accuracy: 0.9927 - val_loss: 0.0300 - val_accuracy: 0.9942\n",
      "\n",
      "Epoch 00032: val_loss did not improve from 0.02683\n",
      "Epoch 33/40\n",
      "73/73 [==============================] - 0s 6ms/step - loss: 0.0292 - accuracy: 0.9938 - val_loss: 0.0240 - val_accuracy: 0.9942\n",
      "\n",
      "Epoch 00033: val_loss improved from 0.02683 to 0.02402, saving model to keypoint_classifier\\keypoint_classifier.hdf5\n",
      "Epoch 34/40\n",
      "73/73 [==============================] - 0s 5ms/step - loss: 0.0240 - accuracy: 0.9948 - val_loss: 0.0227 - val_accuracy: 0.9942\n",
      "\n",
      "Epoch 00034: val_loss improved from 0.02402 to 0.02272, saving model to keypoint_classifier\\keypoint_classifier.hdf5\n",
      "Epoch 35/40\n",
      "73/73 [==============================] - 0s 5ms/step - loss: 0.0235 - accuracy: 0.9946 - val_loss: 0.0263 - val_accuracy: 0.9948\n",
      "\n",
      "Epoch 00035: val_loss did not improve from 0.02272\n",
      "Epoch 36/40\n",
      "73/73 [==============================] - 0s 6ms/step - loss: 0.0256 - accuracy: 0.9940 - val_loss: 0.0233 - val_accuracy: 0.9922\n",
      "\n",
      "Epoch 00036: val_loss did not improve from 0.02272\n",
      "Epoch 37/40\n",
      "73/73 [==============================] - 0s 5ms/step - loss: 0.0218 - accuracy: 0.9948 - val_loss: 0.0233 - val_accuracy: 0.9929\n",
      "\n",
      "Epoch 00037: val_loss did not improve from 0.02272\n",
      "Epoch 38/40\n",
      "73/73 [==============================] - 0s 5ms/step - loss: 0.0246 - accuracy: 0.9935 - val_loss: 0.0220 - val_accuracy: 0.9942\n",
      "\n",
      "Epoch 00038: val_loss improved from 0.02272 to 0.02198, saving model to keypoint_classifier\\keypoint_classifier.hdf5\n",
      "Epoch 39/40\n",
      "73/73 [==============================] - 0s 5ms/step - loss: 0.0202 - accuracy: 0.9955 - val_loss: 0.0189 - val_accuracy: 0.9955\n",
      "\n",
      "Epoch 00039: val_loss improved from 0.02198 to 0.01890, saving model to keypoint_classifier\\keypoint_classifier.hdf5\n",
      "Epoch 40/40\n",
      "73/73 [==============================] - 0s 6ms/step - loss: 0.0207 - accuracy: 0.9961 - val_loss: 0.0267 - val_accuracy: 0.9968\n",
      "\n",
      "Epoch 00040: val_loss did not improve from 0.01890\n"
     ]
    },
    {
     "data": {
      "text/plain": [
       "<keras.callbacks.History at 0x1ed492a5190>"
      ]
     },
     "execution_count": 14,
     "metadata": {},
     "output_type": "execute_result"
    }
   ],
   "source": [
    "model.fit(\n",
    "    X_train,\n",
    "    y_train,\n",
    "    epochs=40,\n",
    "    batch_size=64,\n",
    "    validation_data=(X_test, y_test),\n",
    "    callbacks=[cp_callback, es_callback]\n",
    ")"
   ]
  },
  {
   "cell_type": "code",
   "execution_count": 15,
   "metadata": {
    "id": "RBkmDeUW9hE4"
   },
   "outputs": [],
   "source": [
    "# Loading the saved model\n",
    "model = tf.keras.models.load_model(model_save_path)"
   ]
  },
  {
   "cell_type": "code",
   "execution_count": 16,
   "metadata": {
    "colab": {
     "base_uri": "https://localhost:8080/"
    },
    "id": "pxvb2Y299hE3",
    "outputId": "7015e279-0501-4f24-d1b5-90652d2de17d"
   },
   "outputs": [
    {
     "name": "stdout",
     "output_type": "stream",
     "text": [
      "25/25 [==============================] - 0s 3ms/step - loss: 0.0189 - accuracy: 0.9955\n"
     ]
    }
   ],
   "source": [
    "# Model evaluation\n",
    "# TODO Test on loaded model\n",
    "val_loss, val_acc = model.evaluate(X_test, y_test, batch_size=64)"
   ]
  },
  {
   "cell_type": "code",
   "execution_count": 13,
   "metadata": {},
   "outputs": [],
   "source": [
    "import tensorflow \n",
    "from tensorflow.keras.models import load_model"
   ]
  },
  {
   "cell_type": "code",
   "execution_count": 14,
   "metadata": {},
   "outputs": [],
   "source": [
    "model = load_model(model_save_path)"
   ]
  },
  {
   "cell_type": "markdown",
   "metadata": {
    "id": "S3U4yNWx9hE4"
   },
   "source": [
    "# Confusion matrix"
   ]
  },
  {
   "cell_type": "code",
   "execution_count": 18,
   "metadata": {
    "colab": {
     "base_uri": "https://localhost:8080/",
     "height": 646
    },
    "id": "AP1V6SCk9hE5",
    "outputId": "efce96b9-ca1c-44a5-ef77-58f1d5fc154c"
   },
   "outputs": [
    {
     "data": {
      "image/png": "[encoded data removed]",
      "text/plain": [
       "<Figure size 504x432 with 2 Axes>"
      ]
     },
     "metadata": {
      "needs_background": "light"
     },
     "output_type": "display_data"
    },
    {
     "name": "stdout",
     "output_type": "stream",
     "text": [
      "Classification Report\n",
      "              precision    recall  f1-score   support\n",
      "\n",
      "           0       0.99      1.00      1.00       420\n",
      "           1       1.00      0.99      1.00       397\n",
      "           2       0.99      0.99      0.99       369\n",
      "           3       1.00      1.00      1.00       178\n",
      "           4       0.97      0.97      0.97        37\n",
      "           5       1.00      1.00      1.00        62\n",
      "           6       1.00      1.00      1.00        42\n",
      "           7       1.00      1.00      1.00        43\n",
      "\n",
      "    accuracy                           1.00      1548\n",
      "   macro avg       0.99      0.99      0.99      1548\n",
      "weighted avg       1.00      1.00      1.00      1548\n",
      "\n"
     ]
    }
   ],
   "source": [
    "import pandas as pd\n",
    "import seaborn as sns\n",
    "import matplotlib.pyplot as plt\n",
    "from sklearn.metrics import confusion_matrix, classification_report\n",
    "\n",
    "def print_confusion_matrix(y_true, y_pred, report=True):\n",
    "    labels = sorted(list(set(y_true)))\n",
    "    cmx_data = confusion_matrix(y_true, y_pred, labels=labels)\n",
    "    \n",
    "    df_cmx = pd.DataFrame(cmx_data, index=labels, columns=labels)\n",
    " \n",
    "    fig, ax = plt.subplots(figsize=(7, 6))\n",
    "    sns.heatmap(df_cmx, annot=True, fmt='g' ,square=False)\n",
    "    ax.set_ylim(len(set(y_true)), 0)\n",
    "    plt.show()\n",
    "    \n",
    "    if report:\n",
    "        print('Classification Report')\n",
    "        print(classification_report(y_test, y_pred))\n",
    "\n",
    "Y_pred = model.predict(X_test)\n",
    "y_pred = np.argmax(Y_pred, axis=1)\n",
    "\n",
    "print_confusion_matrix(y_test, y_pred)"
   ]
  }
 ],
 "metadata": {
  "accelerator": "GPU",
  "colab": {
   "collapsed_sections": [],
   "name": "Keypoint_model_training.ipynb",
   "provenance": [],
   "toc_visible": true
  },
  "kernelspec": {
   "display_name": "Python 3 (ipykernel)",
   "language": "python",
   "name": "python3"
  },
  "language_info": {
   "codemirror_mode": {
    "name": "ipython",
    "version": 3
   },
   "file_extension": ".py",
   "mimetype": "text/x-python",
   "name": "python",
   "nbconvert_exporter": "python",
   "pygments_lexer": "ipython3",
   "version": "3.9.7"
  }
 },
 "nbformat": 4,
 "nbformat_minor": 1
}
