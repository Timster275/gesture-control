{
 "cells": [
  {
   "attachments": {},
   "cell_type": "markdown",
   "metadata": {},
   "source": [
    "BY: https://github.com/AssanaliAbu/Hand-Gesture-Recognition"
   ]
  },
  {
   "cell_type": "code",
   "execution_count": 18,
   "metadata": {
    "id": "igMyGnjE9hEp"
   },
   "outputs": [],
   "source": [
    "import csv\n",
    "\n",
    "import numpy as np\n",
    "import pandas as pd\n",
    "import tensorflow as tf\n",
    "from sklearn.model_selection import train_test_split\n",
    "\n",
    "RANDOM_SEED = 42"
   ]
  },
  {
   "cell_type": "markdown",
   "metadata": {
    "id": "t2HDvhIu9hEr"
   },
   "source": [
    "# Specify each path"
   ]
  },
  {
   "cell_type": "code",
   "execution_count": 19,
   "metadata": {
    "id": "9NvZP2Zn9hEy"
   },
   "outputs": [],
   "source": [
    "# Specify data paths\n",
    "dataset = 'keypoint.csv'\n",
    "model_save_path = 'keypoint_classifier/keypoint_classifier.hdf5'"
   ]
  },
  {
   "cell_type": "markdown",
   "metadata": {
    "id": "s5oMH7x19hEz"
   },
   "source": [
    "# Set number of classes"
   ]
  },
  {
   "cell_type": "code",
   "execution_count": 20,
   "metadata": {
    "id": "du4kodXL9hEz"
   },
   "outputs": [],
   "source": [
    "# Change training classes if necessary\n",
    "NUM_CLASSES = 2"
   ]
  },
  {
   "cell_type": "markdown",
   "metadata": {
    "id": "XjnL0uso9hEz"
   },
   "source": [
    "# Dataset reading"
   ]
  },
  {
   "cell_type": "code",
   "execution_count": 21,
   "metadata": {
    "id": "QT5ZqtEz9hE0"
   },
   "outputs": [],
   "source": [
    "X_dataset = np.loadtxt(dataset, delimiter=',', dtype='float32', usecols=list(range(1, (21 * 2) + 1)))"
   ]
  },
  {
   "cell_type": "code",
   "execution_count": 22,
   "metadata": {
    "id": "QmoKFsp49hE0"
   },
   "outputs": [],
   "source": [
    "y_dataset = np.loadtxt(dataset, delimiter=',', dtype='int32', usecols=(0))"
   ]
  },
  {
   "cell_type": "code",
   "execution_count": 23,
   "metadata": {
    "id": "xQU7JTZ_9hE0"
   },
   "outputs": [],
   "source": [
    "X_train, X_test, y_train, y_test = train_test_split(X_dataset, y_dataset, train_size=0.75, random_state=RANDOM_SEED)"
   ]
  },
  {
   "cell_type": "code",
   "execution_count": 24,
   "metadata": {
    "colab": {
     "base_uri": "https://localhost:8080/",
     "height": 279
    },
    "id": "xElG5FoPDQO9",
    "outputId": "2ef372ed-62e3-49c1-ad36-a5b5dc76701a"
   },
   "outputs": [
    {
     "name": "stdout",
     "output_type": "stream",
     "text": [
      "(array([0, 1], dtype=int32), array([794, 799]))\n"
     ]
    },
    {
     "data": {
      "image/png": "[encoded data removed]",
      "text/plain": [
       "<Figure size 640x480 with 1 Axes>"
      ]
     },
     "metadata": {},
     "output_type": "display_data"
    }
   ],
   "source": [
    "# Classes count\n",
    "counts = np.unique(y_dataset, return_counts=True)\n",
    "df = pd.DataFrame(counts)\n",
    "df.T.plot(kind=\"bar\", stacked=True)\n",
    "print(counts)"
   ]
  },
  {
   "cell_type": "markdown",
   "metadata": {
    "id": "mxK_lETT9hE0"
   },
   "source": [
    "# Model building"
   ]
  },
  {
   "cell_type": "code",
   "execution_count": 25,
   "metadata": {
    "id": "vHBmUf1t9hE1"
   },
   "outputs": [],
   "source": [
    "model = tf.keras.models.Sequential([\n",
    "    tf.keras.layers.Input((21 * 2, )),\n",
    "    tf.keras.layers.Dropout(0.0),\n",
    "    tf.keras.layers.Dense(32, activation='relu'),\n",
    "    tf.keras.layers.Dropout(0.0),\n",
    "    tf.keras.layers.Dense(32, activation='relu'),\n",
    "    tf.keras.layers.Dropout(0.0),\n",
    "    tf.keras.layers.Dense(16, activation='relu'),\n",
    "    tf.keras.layers.Dense(NUM_CLASSES, activation='softmax')\n",
    "])"
   ]
  },
  {
   "cell_type": "code",
   "execution_count": 26,
   "metadata": {
    "colab": {
     "base_uri": "https://localhost:8080/"
    },
    "id": "ypqky9tc9hE1",
    "outputId": "c42f3550-ceee-45b8-d40d-d99fd84a2616"
   },
   "outputs": [
    {
     "name": "stdout",
     "output_type": "stream",
     "text": [
      "Model: \"sequential_1\"\n",
      "_________________________________________________________________\n",
      " Layer (type)                Output Shape              Param #   \n",
      "=================================================================\n",
      " dropout_3 (Dropout)         (None, 42)                0         \n",
      "                                                                 \n",
      " dense_4 (Dense)             (None, 32)                1376      \n",
      "                                                                 \n",
      " dropout_4 (Dropout)         (None, 32)                0         \n",
      "                                                                 \n",
      " dense_5 (Dense)             (None, 32)                1056      \n",
      "                                                                 \n",
      " dropout_5 (Dropout)         (None, 32)                0         \n",
      "                                                                 \n",
      " dense_6 (Dense)             (None, 16)                528       \n",
      "                                                                 \n",
      " dense_7 (Dense)             (None, 2)                 34        \n",
      "                                                                 \n",
      "=================================================================\n",
      "Total params: 2,994\n",
      "Trainable params: 2,994\n",
      "Non-trainable params: 0\n",
      "_________________________________________________________________\n"
     ]
    }
   ],
   "source": [
    "model.summary()  # tf.keras.utils.plot_model(model, show_shapes=True)"
   ]
  },
  {
   "cell_type": "code",
   "execution_count": 27,
   "metadata": {
    "id": "MbMjOflQ9hE1"
   },
   "outputs": [],
   "source": [
    "# Model checkpoint callback\n",
    "cp_callback = tf.keras.callbacks.ModelCheckpoint(\n",
    "    model_save_path, verbose=1, save_weights_only=False, save_best_only=True)\n",
    "# Callback for early stopping\n",
    "es_callback = tf.keras.callbacks.EarlyStopping(patience=50, verbose=1)"
   ]
  },
  {
   "cell_type": "code",
   "execution_count": 28,
   "metadata": {
    "id": "c3Dac0M_9hE2"
   },
   "outputs": [],
   "source": [
    "# Model compilation\n",
    "model.compile(\n",
    "    optimizer='adam',\n",
    "    loss='sparse_categorical_crossentropy',\n",
    "    metrics=['accuracy']\n",
    ")"
   ]
  },
  {
   "cell_type": "markdown",
   "metadata": {
    "id": "7XI0j1Iu9hE2"
   },
   "source": [
    "# Model training"
   ]
  },
  {
   "cell_type": "code",
   "execution_count": 29,
   "metadata": {
    "id": "WirBl-JE9hE3",
    "scrolled": true
   },
   "outputs": [
    {
     "name": "stdout",
     "output_type": "stream",
     "text": [
      "Epoch 1/40\n",
      " 1/19 [>.............................] - ETA: 3s - loss: 0.7118 - accuracy: 0.4219\n",
      "Epoch 1: val_loss improved from inf to 0.63633, saving model to keypoint_classifier/keypoint_classifier.hdf5\n",
      "19/19 [==============================] - 0s 7ms/step - loss: 0.6647 - accuracy: 0.5628 - val_loss: 0.6363 - val_accuracy: 0.7293\n",
      "Epoch 2/40\n",
      " 1/19 [>.............................] - ETA: 0s - loss: 0.6480 - accuracy: 0.6875\n",
      "Epoch 2: val_loss improved from 0.63633 to 0.57629, saving model to keypoint_classifier/keypoint_classifier.hdf5\n",
      "19/19 [==============================] - 0s 2ms/step - loss: 0.6141 - accuracy: 0.8174 - val_loss: 0.5763 - val_accuracy: 0.8872\n",
      "Epoch 3/40\n",
      " 1/19 [>.............................] - ETA: 0s - loss: 0.5745 - accuracy: 0.8594\n",
      "Epoch 3: val_loss improved from 0.57629 to 0.47492, saving model to keypoint_classifier/keypoint_classifier.hdf5\n",
      "19/19 [==============================] - 0s 2ms/step - loss: 0.5361 - accuracy: 0.9045 - val_loss: 0.4749 - val_accuracy: 0.8872\n",
      "Epoch 4/40\n",
      " 1/19 [>.............................] - ETA: 0s - loss: 0.4704 - accuracy: 0.9062\n",
      "Epoch 4: val_loss improved from 0.47492 to 0.34484, saving model to keypoint_classifier/keypoint_classifier.hdf5\n",
      "19/19 [==============================] - 0s 2ms/step - loss: 0.4157 - accuracy: 0.9012 - val_loss: 0.3448 - val_accuracy: 1.0000\n",
      "Epoch 5/40\n",
      " 1/19 [>.............................] - ETA: 0s - loss: 0.3397 - accuracy: 1.0000\n",
      "Epoch 5: val_loss improved from 0.34484 to 0.23105, saving model to keypoint_classifier/keypoint_classifier.hdf5\n",
      "19/19 [==============================] - 0s 2ms/step - loss: 0.2919 - accuracy: 0.9799 - val_loss: 0.2311 - val_accuracy: 1.0000\n",
      "Epoch 6/40\n",
      " 1/19 [>.............................] - ETA: 0s - loss: 0.2573 - accuracy: 1.0000\n",
      "Epoch 6: val_loss improved from 0.23105 to 0.14319, saving model to keypoint_classifier/keypoint_classifier.hdf5\n",
      "19/19 [==============================] - 0s 2ms/step - loss: 0.1883 - accuracy: 1.0000 - val_loss: 0.1432 - val_accuracy: 1.0000\n",
      "Epoch 7/40\n",
      " 1/19 [>.............................] - ETA: 0s - loss: 0.1553 - accuracy: 1.0000\n",
      "Epoch 7: val_loss improved from 0.14319 to 0.08509, saving model to keypoint_classifier/keypoint_classifier.hdf5\n",
      "19/19 [==============================] - 0s 2ms/step - loss: 0.1128 - accuracy: 1.0000 - val_loss: 0.0851 - val_accuracy: 1.0000\n",
      "Epoch 8/40\n",
      " 1/19 [>.............................] - ETA: 0s - loss: 0.0781 - accuracy: 1.0000\n",
      "Epoch 8: val_loss improved from 0.08509 to 0.05128, saving model to keypoint_classifier/keypoint_classifier.hdf5\n",
      "19/19 [==============================] - 0s 2ms/step - loss: 0.0669 - accuracy: 1.0000 - val_loss: 0.0513 - val_accuracy: 1.0000\n",
      "Epoch 9/40\n",
      " 1/19 [>.............................] - ETA: 0s - loss: 0.0453 - accuracy: 1.0000\n",
      "Epoch 9: val_loss improved from 0.05128 to 0.03212, saving model to keypoint_classifier/keypoint_classifier.hdf5\n",
      "19/19 [==============================] - 0s 2ms/step - loss: 0.0407 - accuracy: 1.0000 - val_loss: 0.0321 - val_accuracy: 1.0000\n",
      "Epoch 10/40\n",
      " 1/19 [>.............................] - ETA: 0s - loss: 0.0337 - accuracy: 1.0000\n",
      "Epoch 10: val_loss improved from 0.03212 to 0.02174, saving model to keypoint_classifier/keypoint_classifier.hdf5\n",
      "19/19 [==============================] - 0s 2ms/step - loss: 0.0264 - accuracy: 1.0000 - val_loss: 0.0217 - val_accuracy: 1.0000\n",
      "Epoch 11/40\n",
      " 1/19 [>.............................] - ETA: 0s - loss: 0.0196 - accuracy: 1.0000\n",
      "Epoch 11: val_loss improved from 0.02174 to 0.01562, saving model to keypoint_classifier/keypoint_classifier.hdf5\n",
      "19/19 [==============================] - 0s 2ms/step - loss: 0.0192 - accuracy: 1.0000 - val_loss: 0.0156 - val_accuracy: 1.0000\n",
      "Epoch 12/40\n",
      " 1/19 [>.............................] - ETA: 0s - loss: 0.0164 - accuracy: 1.0000\n",
      "Epoch 12: val_loss improved from 0.01562 to 0.01184, saving model to keypoint_classifier/keypoint_classifier.hdf5\n",
      "19/19 [==============================] - 0s 2ms/step - loss: 0.0137 - accuracy: 1.0000 - val_loss: 0.0118 - val_accuracy: 1.0000\n",
      "Epoch 13/40\n",
      " 1/19 [>.............................] - ETA: 0s - loss: 0.0118 - accuracy: 1.0000\n",
      "Epoch 13: val_loss improved from 0.01184 to 0.00920, saving model to keypoint_classifier/keypoint_classifier.hdf5\n",
      "19/19 [==============================] - 0s 2ms/step - loss: 0.0103 - accuracy: 1.0000 - val_loss: 0.0092 - val_accuracy: 1.0000\n",
      "Epoch 14/40\n",
      " 1/19 [>.............................] - ETA: 0s - loss: 0.0083 - accuracy: 1.0000\n",
      "Epoch 14: val_loss improved from 0.00920 to 0.00742, saving model to keypoint_classifier/keypoint_classifier.hdf5\n",
      "19/19 [==============================] - 0s 2ms/step - loss: 0.0082 - accuracy: 1.0000 - val_loss: 0.0074 - val_accuracy: 1.0000\n",
      "Epoch 15/40\n",
      " 1/19 [>.............................] - ETA: 0s - loss: 0.0088 - accuracy: 1.0000\n",
      "Epoch 15: val_loss improved from 0.00742 to 0.00621, saving model to keypoint_classifier/keypoint_classifier.hdf5\n",
      "19/19 [==============================] - 0s 2ms/step - loss: 0.0067 - accuracy: 1.0000 - val_loss: 0.0062 - val_accuracy: 1.0000\n",
      "Epoch 16/40\n",
      " 1/19 [>.............................] - ETA: 0s - loss: 0.0070 - accuracy: 1.0000\n",
      "Epoch 16: val_loss improved from 0.00621 to 0.00532, saving model to keypoint_classifier/keypoint_classifier.hdf5\n",
      "19/19 [==============================] - 0s 2ms/step - loss: 0.0056 - accuracy: 1.0000 - val_loss: 0.0053 - val_accuracy: 1.0000\n",
      "Epoch 17/40\n",
      " 1/19 [>.............................] - ETA: 0s - loss: 0.0053 - accuracy: 1.0000\n",
      "Epoch 17: val_loss improved from 0.00532 to 0.00454, saving model to keypoint_classifier/keypoint_classifier.hdf5\n",
      "19/19 [==============================] - 0s 2ms/step - loss: 0.0048 - accuracy: 1.0000 - val_loss: 0.0045 - val_accuracy: 1.0000\n",
      "Epoch 18/40\n",
      " 1/19 [>.............................] - ETA: 0s - loss: 0.0047 - accuracy: 1.0000\n",
      "Epoch 18: val_loss improved from 0.00454 to 0.00388, saving model to keypoint_classifier/keypoint_classifier.hdf5\n",
      "19/19 [==============================] - 0s 2ms/step - loss: 0.0042 - accuracy: 1.0000 - val_loss: 0.0039 - val_accuracy: 1.0000\n",
      "Epoch 19/40\n",
      " 1/19 [>.............................] - ETA: 0s - loss: 0.0033 - accuracy: 1.0000\n",
      "Epoch 19: val_loss improved from 0.00388 to 0.00329, saving model to keypoint_classifier/keypoint_classifier.hdf5\n",
      "19/19 [==============================] - 0s 2ms/step - loss: 0.0036 - accuracy: 1.0000 - val_loss: 0.0033 - val_accuracy: 1.0000\n",
      "Epoch 20/40\n",
      " 1/19 [>.............................] - ETA: 0s - loss: 0.0030 - accuracy: 1.0000\n",
      "Epoch 20: val_loss improved from 0.00329 to 0.00296, saving model to keypoint_classifier/keypoint_classifier.hdf5\n",
      "19/19 [==============================] - 0s 2ms/step - loss: 0.0031 - accuracy: 1.0000 - val_loss: 0.0030 - val_accuracy: 1.0000\n",
      "Epoch 21/40\n",
      " 1/19 [>.............................] - ETA: 0s - loss: 0.0027 - accuracy: 1.0000\n",
      "Epoch 21: val_loss improved from 0.00296 to 0.00258, saving model to keypoint_classifier/keypoint_classifier.hdf5\n",
      "19/19 [==============================] - 0s 2ms/step - loss: 0.0028 - accuracy: 1.0000 - val_loss: 0.0026 - val_accuracy: 1.0000\n",
      "Epoch 22/40\n",
      " 1/19 [>.............................] - ETA: 0s - loss: 0.0022 - accuracy: 1.0000\n",
      "Epoch 22: val_loss improved from 0.00258 to 0.00237, saving model to keypoint_classifier/keypoint_classifier.hdf5\n",
      "19/19 [==============================] - 0s 2ms/step - loss: 0.0025 - accuracy: 1.0000 - val_loss: 0.0024 - val_accuracy: 1.0000\n",
      "Epoch 23/40\n",
      " 1/19 [>.............................] - ETA: 0s - loss: 0.0020 - accuracy: 1.0000\n",
      "Epoch 23: val_loss improved from 0.00237 to 0.00207, saving model to keypoint_classifier/keypoint_classifier.hdf5\n",
      "19/19 [==============================] - 0s 2ms/step - loss: 0.0023 - accuracy: 1.0000 - val_loss: 0.0021 - val_accuracy: 1.0000\n",
      "Epoch 24/40\n",
      " 1/19 [>.............................] - ETA: 0s - loss: 0.0021 - accuracy: 1.0000\n",
      "Epoch 24: val_loss improved from 0.00207 to 0.00189, saving model to keypoint_classifier/keypoint_classifier.hdf5\n",
      "19/19 [==============================] - 0s 2ms/step - loss: 0.0020 - accuracy: 1.0000 - val_loss: 0.0019 - val_accuracy: 1.0000\n",
      "Epoch 25/40\n",
      " 1/19 [>.............................] - ETA: 0s - loss: 0.0019 - accuracy: 1.0000\n",
      "Epoch 25: val_loss improved from 0.00189 to 0.00170, saving model to keypoint_classifier/keypoint_classifier.hdf5\n",
      "19/19 [==============================] - 0s 2ms/step - loss: 0.0019 - accuracy: 1.0000 - val_loss: 0.0017 - val_accuracy: 1.0000\n",
      "Epoch 26/40\n",
      " 1/19 [>.............................] - ETA: 0s - loss: 0.0014 - accuracy: 1.0000\n",
      "Epoch 26: val_loss improved from 0.00170 to 0.00157, saving model to keypoint_classifier/keypoint_classifier.hdf5\n",
      "19/19 [==============================] - 0s 2ms/step - loss: 0.0017 - accuracy: 1.0000 - val_loss: 0.0016 - val_accuracy: 1.0000\n",
      "Epoch 27/40\n",
      " 1/19 [>.............................] - ETA: 0s - loss: 0.0013 - accuracy: 1.0000\n",
      "Epoch 27: val_loss improved from 0.00157 to 0.00150, saving model to keypoint_classifier/keypoint_classifier.hdf5\n",
      "19/19 [==============================] - 0s 2ms/step - loss: 0.0016 - accuracy: 1.0000 - val_loss: 0.0015 - val_accuracy: 1.0000\n",
      "Epoch 28/40\n",
      " 1/19 [>.............................] - ETA: 0s - loss: 0.0014 - accuracy: 1.0000\n",
      "Epoch 28: val_loss improved from 0.00150 to 0.00132, saving model to keypoint_classifier/keypoint_classifier.hdf5\n",
      "19/19 [==============================] - 0s 2ms/step - loss: 0.0015 - accuracy: 1.0000 - val_loss: 0.0013 - val_accuracy: 1.0000\n",
      "Epoch 29/40\n",
      " 1/19 [>.............................] - ETA: 0s - loss: 0.0013 - accuracy: 1.0000\n",
      "Epoch 29: val_loss improved from 0.00132 to 0.00121, saving model to keypoint_classifier/keypoint_classifier.hdf5\n",
      "19/19 [==============================] - 0s 2ms/step - loss: 0.0013 - accuracy: 1.0000 - val_loss: 0.0012 - val_accuracy: 1.0000\n",
      "Epoch 30/40\n",
      " 1/19 [>.............................] - ETA: 0s - loss: 0.0014 - accuracy: 1.0000\n",
      "Epoch 30: val_loss improved from 0.00121 to 0.00114, saving model to keypoint_classifier/keypoint_classifier.hdf5\n",
      "19/19 [==============================] - 0s 2ms/step - loss: 0.0012 - accuracy: 1.0000 - val_loss: 0.0011 - val_accuracy: 1.0000\n",
      "Epoch 31/40\n",
      " 1/19 [>.............................] - ETA: 0s - loss: 0.0011 - accuracy: 1.0000\n",
      "Epoch 31: val_loss improved from 0.00114 to 0.00111, saving model to keypoint_classifier/keypoint_classifier.hdf5\n",
      "19/19 [==============================] - 0s 2ms/step - loss: 0.0012 - accuracy: 1.0000 - val_loss: 0.0011 - val_accuracy: 1.0000\n",
      "Epoch 32/40\n",
      " 1/19 [>.............................] - ETA: 0s - loss: 0.0012 - accuracy: 1.0000\n",
      "Epoch 32: val_loss improved from 0.00111 to 0.00098, saving model to keypoint_classifier/keypoint_classifier.hdf5\n",
      "19/19 [==============================] - 0s 3ms/step - loss: 0.0011 - accuracy: 1.0000 - val_loss: 9.8396e-04 - val_accuracy: 1.0000\n",
      "Epoch 33/40\n",
      " 1/19 [>.............................] - ETA: 0s - loss: 8.4507e-04 - accuracy: 1.0000\n",
      "Epoch 33: val_loss improved from 0.00098 to 0.00095, saving model to keypoint_classifier/keypoint_classifier.hdf5\n",
      "19/19 [==============================] - 0s 3ms/step - loss: 0.0010 - accuracy: 1.0000 - val_loss: 9.5288e-04 - val_accuracy: 1.0000\n",
      "Epoch 34/40\n",
      " 1/19 [>.............................] - ETA: 0s - loss: 9.2225e-04 - accuracy: 1.0000\n",
      "Epoch 34: val_loss improved from 0.00095 to 0.00085, saving model to keypoint_classifier/keypoint_classifier.hdf5\n",
      "19/19 [==============================] - 0s 2ms/step - loss: 9.5926e-04 - accuracy: 1.0000 - val_loss: 8.5315e-04 - val_accuracy: 1.0000\n",
      "Epoch 35/40\n",
      " 1/19 [>.............................] - ETA: 0s - loss: 9.2542e-04 - accuracy: 1.0000\n",
      "Epoch 35: val_loss improved from 0.00085 to 0.00080, saving model to keypoint_classifier/keypoint_classifier.hdf5\n",
      "19/19 [==============================] - 0s 2ms/step - loss: 9.2429e-04 - accuracy: 1.0000 - val_loss: 7.9977e-04 - val_accuracy: 1.0000\n",
      "Epoch 36/40\n",
      " 1/19 [>.............................] - ETA: 0s - loss: 7.5942e-04 - accuracy: 1.0000\n",
      "Epoch 36: val_loss improved from 0.00080 to 0.00074, saving model to keypoint_classifier/keypoint_classifier.hdf5\n",
      "19/19 [==============================] - 0s 2ms/step - loss: 8.6485e-04 - accuracy: 1.0000 - val_loss: 7.3608e-04 - val_accuracy: 1.0000\n",
      "Epoch 37/40\n",
      " 1/19 [>.............................] - ETA: 0s - loss: 7.2732e-04 - accuracy: 1.0000\n",
      "Epoch 37: val_loss did not improve from 0.00074\n",
      "19/19 [==============================] - 0s 1ms/step - loss: 8.2031e-04 - accuracy: 1.0000 - val_loss: 7.4027e-04 - val_accuracy: 1.0000\n",
      "Epoch 38/40\n",
      " 1/19 [>.............................] - ETA: 0s - loss: 8.3214e-04 - accuracy: 1.0000\n",
      "Epoch 38: val_loss improved from 0.00074 to 0.00066, saving model to keypoint_classifier/keypoint_classifier.hdf5\n",
      "19/19 [==============================] - 0s 2ms/step - loss: 7.4680e-04 - accuracy: 1.0000 - val_loss: 6.5616e-04 - val_accuracy: 1.0000\n",
      "Epoch 39/40\n",
      " 1/19 [>.............................] - ETA: 0s - loss: 7.3620e-04 - accuracy: 1.0000\n",
      "Epoch 39: val_loss did not improve from 0.00066\n",
      "19/19 [==============================] - 0s 1ms/step - loss: 7.2324e-04 - accuracy: 1.0000 - val_loss: 6.7510e-04 - val_accuracy: 1.0000\n",
      "Epoch 40/40\n",
      " 1/19 [>.............................] - ETA: 0s - loss: 7.0759e-04 - accuracy: 1.0000\n",
      "Epoch 40: val_loss improved from 0.00066 to 0.00059, saving model to keypoint_classifier/keypoint_classifier.hdf5\n",
      "19/19 [==============================] - 0s 2ms/step - loss: 6.8740e-04 - accuracy: 1.0000 - val_loss: 5.8674e-04 - val_accuracy: 1.0000\n"
     ]
    },
    {
     "data": {
      "text/plain": [
       "<keras.callbacks.History at 0x286929c40>"
      ]
     },
     "execution_count": 29,
     "metadata": {},
     "output_type": "execute_result"
    }
   ],
   "source": [
    "model.fit(\n",
    "    X_train,\n",
    "    y_train,\n",
    "    epochs=40,\n",
    "    batch_size=64,\n",
    "    validation_data=(X_test, y_test),\n",
    "    callbacks=[cp_callback, es_callback]\n",
    ")"
   ]
  },
  {
   "cell_type": "code",
   "execution_count": 30,
   "metadata": {
    "id": "RBkmDeUW9hE4"
   },
   "outputs": [],
   "source": [
    "# Loading the saved model\n",
    "model = tf.keras.models.load_model(model_save_path)"
   ]
  },
  {
   "cell_type": "code",
   "execution_count": 31,
   "metadata": {
    "colab": {
     "base_uri": "https://localhost:8080/"
    },
    "id": "pxvb2Y299hE3",
    "outputId": "7015e279-0501-4f24-d1b5-90652d2de17d"
   },
   "outputs": [
    {
     "name": "stdout",
     "output_type": "stream",
     "text": [
      "7/7 [==============================] - 0s 583us/step - loss: 5.8674e-04 - accuracy: 1.0000\n"
     ]
    }
   ],
   "source": [
    "# Model evaluation\n",
    "# TODO Test on loaded model\n",
    "val_loss, val_acc = model.evaluate(X_test, y_test, batch_size=64)"
   ]
  },
  {
   "cell_type": "code",
   "execution_count": 15,
   "metadata": {},
   "outputs": [],
   "source": [
    "import tensorflow \n",
    "from tensorflow.keras.models import load_model"
   ]
  },
  {
   "cell_type": "code",
   "execution_count": 16,
   "metadata": {},
   "outputs": [],
   "source": [
    "model = load_model(model_save_path)"
   ]
  },
  {
   "cell_type": "markdown",
   "metadata": {
    "id": "S3U4yNWx9hE4"
   },
   "source": [
    "# Confusion matrix"
   ]
  },
  {
   "cell_type": "code",
   "execution_count": 17,
   "metadata": {
    "colab": {
     "base_uri": "https://localhost:8080/",
     "height": 646
    },
    "id": "AP1V6SCk9hE5",
    "outputId": "efce96b9-ca1c-44a5-ef77-58f1d5fc154c"
   },
   "outputs": [
    {
     "ename": "ModuleNotFoundError",
     "evalue": "No module named 'seaborn'",
     "output_type": "error",
     "traceback": [
      "\u001b[0;31m---------------------------------------------------------------------------\u001b[0m",
      "\u001b[0;31mModuleNotFoundError\u001b[0m                       Traceback (most recent call last)",
      "Cell \u001b[0;32mIn[17], line 2\u001b[0m\n\u001b[1;32m      1\u001b[0m \u001b[39mimport\u001b[39;00m \u001b[39mpandas\u001b[39;00m \u001b[39mas\u001b[39;00m \u001b[39mpd\u001b[39;00m\n\u001b[0;32m----> 2\u001b[0m \u001b[39mimport\u001b[39;00m \u001b[39mseaborn\u001b[39;00m \u001b[39mas\u001b[39;00m \u001b[39msns\u001b[39;00m\n\u001b[1;32m      3\u001b[0m \u001b[39mimport\u001b[39;00m \u001b[39mmatplotlib\u001b[39;00m\u001b[39m.\u001b[39;00m\u001b[39mpyplot\u001b[39;00m \u001b[39mas\u001b[39;00m \u001b[39mplt\u001b[39;00m\n\u001b[1;32m      4\u001b[0m \u001b[39mfrom\u001b[39;00m \u001b[39msklearn\u001b[39;00m\u001b[39m.\u001b[39;00m\u001b[39mmetrics\u001b[39;00m \u001b[39mimport\u001b[39;00m confusion_matrix, classification_report\n",
      "\u001b[0;31mModuleNotFoundError\u001b[0m: No module named 'seaborn'"
     ]
    }
   ],
   "source": [
    "import pandas as pd\n",
    "import seaborn as sns\n",
    "import matplotlib.pyplot as plt\n",
    "from sklearn.metrics import confusion_matrix, classification_report\n",
    "\n",
    "def print_confusion_matrix(y_true, y_pred, report=True):\n",
    "    labels = sorted(list(set(y_true)))\n",
    "    cmx_data = confusion_matrix(y_true, y_pred, labels=labels)\n",
    "    \n",
    "    df_cmx = pd.DataFrame(cmx_data, index=labels, columns=labels)\n",
    " \n",
    "    fig, ax = plt.subplots(figsize=(7, 6))\n",
    "    sns.heatmap(df_cmx, annot=True, fmt='g' ,square=False)\n",
    "    ax.set_ylim(len(set(y_true)), 0)\n",
    "    plt.show()\n",
    "    \n",
    "    if report:\n",
    "        print('Classification Report')\n",
    "        print(classification_report(y_test, y_pred))\n",
    "\n",
    "Y_pred = model.predict(X_test)\n",
    "y_pred = np.argmax(Y_pred, axis=1)\n",
    "\n",
    "print_confusion_matrix(y_test, y_pred)"
   ]
  }
 ],
 "metadata": {
  "accelerator": "GPU",
  "colab": {
   "collapsed_sections": [],
   "name": "Keypoint_model_training.ipynb",
   "provenance": [],
   "toc_visible": true
  },
  "kernelspec": {
   "display_name": "py39",
   "language": "python",
   "name": "python3"
  },
  "language_info": {
   "codemirror_mode": {
    "name": "ipython",
    "version": 3
   },
   "file_extension": ".py",
   "mimetype": "text/x-python",
   "name": "python",
   "nbconvert_exporter": "python",
   "pygments_lexer": "ipython3",
   "version": "3.9.15 | packaged by conda-forge | (main, Nov 22 2022, 08:48:25) \n[Clang 14.0.6 ]"
  },
  "vscode": {
   "interpreter": {
    "hash": "aa3dd84ef0f650d9d8b867844db5a915f08cb58b5d6dab20fc53865ee0283ae4"
   }
  }
 },
 "nbformat": 4,
 "nbformat_minor": 1
}
